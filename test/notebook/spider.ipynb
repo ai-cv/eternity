{
 "cells": [
  {
   "cell_type": "code",
   "execution_count": 2,
   "metadata": {},
   "outputs": [],
   "source": [
    "import urllib.request as ur\n",
    "from lxml import etree\n",
    "from lxml.html import fromstring, tostring"
   ]
  },
  {
   "cell_type": "code",
   "execution_count": null,
   "metadata": {},
   "outputs": [],
   "source": []
  },
  {
   "cell_type": "code",
   "execution_count": null,
   "metadata": {},
   "outputs": [],
   "source": []
  },
  {
   "cell_type": "code",
   "execution_count": 3,
   "metadata": {},
   "outputs": [],
   "source": [
    "request = ur.Request(\"http://guba.eastmoney.com/news,002243,890766565.html\")\n",
    "response = ur.urlopen(request)\n",
    "html = response.read().decode('utf-8')\n",
    "dom = etree.HTML(html)"
   ]
  },
  {
   "cell_type": "code",
   "execution_count": 4,
   "metadata": {},
   "outputs": [
    {
     "data": {
      "text/plain": [
       "<Element html at 0x7f725015fcc8>"
      ]
     },
     "execution_count": 4,
     "metadata": {},
     "output_type": "execute_result"
    }
   ],
   "source": [
    "dom"
   ]
  },
  {
   "cell_type": "code",
   "execution_count": 50,
   "metadata": {},
   "outputs": [
    {
     "data": {
      "text/plain": [
       "'发表于 2019-12-09 14:28:51'"
      ]
     },
     "execution_count": 50,
     "metadata": {},
     "output_type": "execute_result"
    }
   ],
   "source": [
    "dom.xpath('//*/div[@class=\"zwlitime\"]')[0].text"
   ]
  },
  {
   "cell_type": "code",
   "execution_count": 51,
   "metadata": {},
   "outputs": [
    {
     "data": {
      "text/plain": [
       "'\\r\\n                                                不收呢？ \\r\\n                                            '"
      ]
     },
     "execution_count": 51,
     "metadata": {},
     "output_type": "execute_result"
    }
   ],
   "source": [
    "# <div class=\"zwlitime\">发表于 2019-12-12 15:03:33</div>\n",
    "dom.xpath('//*/div[@class=\"short_text\"]')[0].text"
   ]
  },
  {
   "cell_type": "code",
   "execution_count": 52,
   "metadata": {},
   "outputs": [
    {
     "data": {
      "text/plain": [
       "5"
      ]
     },
     "execution_count": 52,
     "metadata": {},
     "output_type": "execute_result"
    }
   ],
   "source": [
    "len(dom.xpath('//*/div[@class=\"zwlitime\"]'))"
   ]
  },
  {
   "cell_type": "code",
   "execution_count": 53,
   "metadata": {},
   "outputs": [
    {
     "data": {
      "text/plain": [
       "6"
      ]
     },
     "execution_count": 53,
     "metadata": {},
     "output_type": "execute_result"
    }
   ],
   "source": [
    "len(dom.xpath('//*/div[@class=\"short_text\"]'))"
   ]
  },
  {
   "cell_type": "code",
   "execution_count": null,
   "metadata": {},
   "outputs": [],
   "source": [
    "<div class=\"zwlitext  stockcodec\">\n",
    "                                            <div class=\"short_text\">\n",
    "                                                狠狠打了你一耳光！ \n",
    "                                            </div>\n",
    "\n",
    "                                        </div>"
   ]
  },
  {
   "cell_type": "code",
   "execution_count": 56,
   "metadata": {
    "scrolled": true
   },
   "outputs": [
    {
     "name": "stdout",
     "output_type": "stream",
     "text": [
      "发表于 2019-12-09 14:28:51\n",
      "\r\n",
      "                                                不收呢？ \r\n",
      "                                            \n",
      "发表于 2019-12-09 14:30:52\n",
      "\r\n",
      "                                                我贡献500手，谁跟上 \r\n",
      "                                            \n",
      "发表于 2019-12-09 14:59:17\n",
      "\r\n",
      "                                                狠狠打了你一耳光！ \r\n",
      "                                            \n",
      "发表于 2019-12-09 15:01:35\n",
      "\r\n",
      "                                                猪八戒说的，散伙了 \r\n",
      "                                            \n",
      "发表于 2019-12-09 17:05:51\n",
      "\r\n",
      "                                                赚疯了吧 \r\n",
      "                                            \n"
     ]
    }
   ],
   "source": [
    "for i in range(len(dom.xpath('//*/div[@class=\"zwlitime\"]'))):\n",
    "    print(dom.xpath('//*/div[@class=\"zwlitime\"]')[i].text)\n",
    "    print(dom.xpath('//*/div[@class=\"zwlitext  stockcodec\"]/div[@class=\"short_text\"]')[i].text)"
   ]
  },
  {
   "cell_type": "code",
   "execution_count": 42,
   "metadata": {},
   "outputs": [
    {
     "data": {
      "text/plain": [
       "[]"
      ]
     },
     "execution_count": 42,
     "metadata": {},
     "output_type": "execute_result"
    }
   ],
   "source": [
    "dom.xpath('//*[@id=\"zwli8836547985\"]/div[4]/div')"
   ]
  },
  {
   "cell_type": "code",
   "execution_count": 38,
   "metadata": {},
   "outputs": [
    {
     "name": "stdout",
     "output_type": "stream",
     "text": [
      "\r\n",
      "                                                不收呢？ \r\n",
      "                                            \n",
      "None\n",
      "\r\n",
      "                                                我贡献500手，谁跟上 \r\n",
      "                                            \n",
      "None\n",
      "\r\n",
      "                                                狠狠打了你一耳光！ \r\n",
      "                                            \n",
      "None\n",
      "\r\n",
      "                                                    \n",
      "\r\n",
      "                                                猪八戒说的，散伙了 \r\n",
      "                                            \n",
      "\r\n",
      "                                                赚疯了吧 \r\n",
      "                                            \n",
      "None\n"
     ]
    }
   ],
   "source": [
    "for i in range(len(dom.xpath('//*/div[4]/div/div[3]/div'))):\n",
    "    print(dom.xpath('//*/div[4]/div/div[3]/div')[i].text)\n",
    "    print(dom.xpath('//*/div[4]/div/div[4]/div')[i].text)"
   ]
  },
  {
   "cell_type": "code",
   "execution_count": 20,
   "metadata": {},
   "outputs": [],
   "source": [
    "dom.xpath('//*[@id=\"zwli8835647563\"]/div[4]/div/div[4]/div')[0].text"
   ]
  },
  {
   "cell_type": "code",
   "execution_count": null,
   "metadata": {},
   "outputs": [],
   "source": [
    "//*/div[4]/div/div[3]/div\n",
    "//*/div[4]/div/div[4]/div\n",
    "//*/div[4]/div/div[3]/div\n",
    "//*[@id=\"zwli8835648588\"]/div[4]/div/div[4]/div"
   ]
  },
  {
   "cell_type": "code",
   "execution_count": 29,
   "metadata": {},
   "outputs": [
    {
     "data": {
      "text/plain": [
       "'\\r\\n                                                猪八戒说的，散伙了 \\r\\n                                            '"
      ]
     },
     "execution_count": 29,
     "metadata": {},
     "output_type": "execute_result"
    }
   ],
   "source": [
    "dom.xpath('//*[@id=\"zwli8835648588\"]/div[4]/div/div[4]/div')[0].text"
   ]
  },
  {
   "cell_type": "code",
   "execution_count": null,
   "metadata": {},
   "outputs": [],
   "source": [
    "#!/usr/bin/env python\n",
    "# -*-coding:utf-8 -*-\n",
    "\n",
    "import urllib.request as ur\n",
    "import re\n",
    "# 导入对excel文件进行操作的库\n",
    "import xlwt\n",
    "# 创建表格，设置编码模式，创建新的sheet\n",
    "book=xlwt.Workbook(encoding='utf-8',style_compression=0)\n",
    "sheet=book.add_sheet('dede',cell_overwrite_ok=True)\n",
    "\n",
    "#j的作用是对url不断进行修改，翻页\n",
    "for j in range(1, 1192):\n",
    "    print(j)\n",
    "    url = 'http://guba.eastmoney.com/list,600030,5,f_'+str(j)+'.html'\n",
    "    try:\n",
    "        request = ur .Request(url)\n",
    "        response = ur .urlopen(request)\n",
    "        content = response.read().decode('utf-8')\n",
    "        pattern = re.compile('<span class.*?title=(.*?)>',re.S)\n",
    "        title = re.findall(pattern, content)\n",
    "        pattern = re.compile('<span class.*?<a href.*?data-popper.*?>(.*?)</a>', re.S)\n",
    "        author = re.findall(pattern, content)\n",
    "        timePattern = re.compile('<span class.*?data-popper.*?</span><span class.*?>(.*?)</span>.*?<span class.*?>(.*?)</span>', re.S)\n",
    "        time = re.findall(timePattern, content)\n",
    "        pattern = re.compile('<div class.*?articleh.*?<span.*?>(.*?)</span>.*?<span class.*?>(.*?)</span>', re.S)\n",
    "        num = re.findall(pattern, content)\n",
    "        for i in range(0, 80):\n",
    "            titleans = title[i+1]\n",
    "            sheet.write((j-1)*80+i,0,titleans)\n",
    "            authorans = author[i]\n",
    "            sheet.write((j - 1) * 80 + i, 1, authorans)\n",
    "            fabiaotime = time[i][0]\n",
    "            sheet.write((j - 1) * 80 + i, 2, fabiaotime)\n",
    "            gengxintime=time[i][1]\n",
    "            sheet.write((j - 1) * 80 + i, 3, gengxintime)\n",
    "            yuedu = num[i][0]\n",
    "            #print yuedu\n",
    "            sheet.write((j - 1) * 80 + i, 4, yuedu)\n",
    "            pinglun = num[i][1]\n",
    "            #print pinglun\n",
    "            sheet.write((j - 1) * 80 + i, 5, pinglun)\n",
    "            #保存\n",
    "            book.save('C:\\\\Users\\\\Lenovo\\\\Desktop\\\\600030.xls')\n",
    "\n",
    "    except ur.URLError as e:\n",
    "        if hasattr(e, \"code\"):\n",
    "            print(e.code)\n",
    "\n",
    "        if hasattr(e, \"reason\"):\n",
    "            print(e.reason)"
   ]
  },
  {
   "cell_type": "code",
   "execution_count": null,
   "metadata": {},
   "outputs": [],
   "source": [
    "#!/usr/bin/env python\n",
    "# -*-coding:utf-8 -*-\n",
    "\n",
    "import urllib.request as ur\n",
    "import re\n",
    "# 导入对excel文件进行操作的库\n",
    "import xlwt\n",
    "# 创建表格，设置编码模式，创建新的sheet\n",
    "book=xlwt.Workbook(encoding='utf-8',style_compression=0)\n",
    "sheet=book.add_sheet('dede',cell_overwrite_ok=True)\n",
    "\n",
    "#j的作用是对url不断进行修改，翻页\n",
    "for j in range(1, 1192):\n",
    "    print(j)\n",
    "    url = 'http://guba.eastmoney.com/list,600030,5,f_'+str(j)+'.html'\n",
    "    try:\n",
    "        request = ur .Request(url)\n",
    "        response = ur .urlopen(request)\n",
    "        content = response.read().decode('utf-8')\n",
    "        pattern = re.compile('<span class.*?title=(.*?)>',re.S)\n",
    "        title = re.findall(pattern, content)\n",
    "        pattern = re.compile('<span class.*?<a href.*?data-popper.*?>(.*?)</a>', re.S)\n",
    "        author = re.findall(pattern, content)\n",
    "        timePattern = re.compile('<span class.*?data-popper.*?</span><span class.*?>(.*?)</span>.*?<span class.*?>(.*?)</span>', re.S)\n",
    "        time = re.findall(timePattern, content)\n",
    "        pattern = re.compile('<div class.*?articleh.*?<span.*?>(.*?)</span>.*?<span class.*?>(.*?)</span>', re.S)\n",
    "        num = re.findall(pattern, content)\n",
    "        for i in range(0, 80):\n",
    "            titleans = title[i+1]\n",
    "            sheet.write((j-1)*80+i,0,titleans)\n",
    "            authorans = author[i]\n",
    "            sheet.write((j - 1) * 80 + i, 1, authorans)\n",
    "            fabiaotime = time[i][0]\n",
    "            sheet.write((j - 1) * 80 + i, 2, fabiaotime)\n",
    "            gengxintime=time[i][1]\n",
    "            sheet.write((j - 1) * 80 + i, 3, gengxintime)\n",
    "            yuedu = num[i][0]\n",
    "            #print yuedu\n",
    "            sheet.write((j - 1) * 80 + i, 4, yuedu)\n",
    "            pinglun = num[i][1]\n",
    "            #print pinglun\n",
    "            sheet.write((j - 1) * 80 + i, 5, pinglun)\n",
    "            #保存\n",
    "            book.save('C:\\\\Users\\\\Lenovo\\\\Desktop\\\\600030.xls')\n",
    "\n",
    "    except ur.URLError as e:\n",
    "        if hasattr(e, \"code\"):\n",
    "            print(e.code)\n",
    "\n",
    "        if hasattr(e, \"reason\"):\n",
    "            print(e.reason)"
   ]
  }
 ],
 "metadata": {
  "kernelspec": {
   "display_name": "Python 3",
   "language": "python",
   "name": "python3"
  },
  "language_info": {
   "codemirror_mode": {
    "name": "ipython",
    "version": 3
   },
   "file_extension": ".py",
   "mimetype": "text/x-python",
   "name": "python",
   "nbconvert_exporter": "python",
   "pygments_lexer": "ipython3",
   "version": "3.5.2"
  }
 },
 "nbformat": 4,
 "nbformat_minor": 2
}
