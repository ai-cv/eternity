{
 "cells": [
  {
   "cell_type": "code",
   "execution_count": 1,
   "metadata": {},
   "outputs": [
    {
     "name": "stdout",
     "output_type": "stream",
     "text": [
      "2.0.0\n"
     ]
    }
   ],
   "source": [
    "# 此笔记本（notebook）使用评论文本将影评分为积极（positive）或消极（nagetive）两类。这是一个二元（binary）或者二分类问题，一种重要且应用广泛的机器学习问题。\n",
    "\n",
    "# 我们将使用来源于网络电影数据库（Internet Movie Database）的 IMDB 数据集（IMDB dataset），其包含 50,000 条影评文本。从该数据集切割出的25,000条评论用作训练，另外 25,000 条用作测试。训练集与测试集是平衡的（balanced），意味着它们包含相等数量的积极和消极评论。\n",
    "\n",
    "# 此笔记本（notebook）使用了 tf.keras，它是一个 Tensorflow 中用于构建和训练模型的高级API。有关使用 tf.keras 进行文本分类的更高级教程，请参阅 MLCC文本分类指南（MLCC Text Classification Guide）。\n",
    "from __future__ import absolute_import, division, print_function, unicode_literals\n",
    "\n",
    "import tensorflow as tf\n",
    "from tensorflow import keras\n",
    "\n",
    "import numpy as np\n",
    "\n",
    "print(tf.__version__)"
   ]
  },
  {
   "cell_type": "code",
   "execution_count": 16,
   "metadata": {},
   "outputs": [],
   "source": [
    "# 下载 IMDB 数据集\n",
    "# IMDB 数据集已经打包在 Tensorflow 中。该数据集已经经过预处理，评论（单词序列）已经被转换为整数序列，其中每个整数表示字典中的特定单词。\n",
    "# 以下代码将下载 IMDB 数据集到您的机器上（如果您已经下载过将从缓存中复制）：\n",
    "# 参数 num_words=10000 保留了训练数据中最常出现的 10,000 个单词。为了保持数据规模的可管理性，低频词将被丢弃。\n",
    "imdb = keras.datasets.imdb\n",
    "\n",
    "(train_data, train_labels), (test_data, test_labels) = imdb.load_data(num_words=1000)"
   ]
  },
  {
   "cell_type": "code",
   "execution_count": 18,
   "metadata": {},
   "outputs": [
    {
     "name": "stdout",
     "output_type": "stream",
     "text": [
      "Training entries: 25000, labels: 25000\n"
     ]
    }
   ],
   "source": [
    "#探索数据\n",
    "# 让我们花一点时间来了解数据格式。该数据集是经过预处理的：每个样本都是一个表示影评中词汇的整数数组。\n",
    "# 每个标签都是一个值为 0 或 1 的整数值，其中 0 代表消极评论，1 代表积极评论。\n",
    "print(\"Training entries: {}, labels: {}\".format(len(train_data), len(train_labels)))"
   ]
  },
  {
   "cell_type": "code",
   "execution_count": 19,
   "metadata": {},
   "outputs": [
    {
     "name": "stdout",
     "output_type": "stream",
     "text": [
      "[1, 14, 22, 16, 43, 530, 973, 2, 2, 65, 458, 2, 66, 2, 4, 173, 36, 256, 5, 25, 100, 43, 838, 112, 50, 670, 2, 9, 35, 480, 284, 5, 150, 4, 172, 112, 167, 2, 336, 385, 39, 4, 172, 2, 2, 17, 546, 38, 13, 447, 4, 192, 50, 16, 6, 147, 2, 19, 14, 22, 4, 2, 2, 469, 4, 22, 71, 87, 12, 16, 43, 530, 38, 76, 15, 13, 2, 4, 22, 17, 515, 17, 12, 16, 626, 18, 2, 5, 62, 386, 12, 8, 316, 8, 106, 5, 4, 2, 2, 16, 480, 66, 2, 33, 4, 130, 12, 16, 38, 619, 5, 25, 124, 51, 36, 135, 48, 25, 2, 33, 6, 22, 12, 215, 28, 77, 52, 5, 14, 407, 16, 82, 2, 8, 4, 107, 117, 2, 15, 256, 4, 2, 7, 2, 5, 723, 36, 71, 43, 530, 476, 26, 400, 317, 46, 7, 4, 2, 2, 13, 104, 88, 4, 381, 15, 297, 98, 32, 2, 56, 26, 141, 6, 194, 2, 18, 4, 226, 22, 21, 134, 476, 26, 480, 5, 144, 30, 2, 18, 51, 36, 28, 224, 92, 25, 104, 4, 226, 65, 16, 38, 2, 88, 12, 16, 283, 5, 16, 2, 113, 103, 32, 15, 16, 2, 19, 178, 32]\n"
     ]
    }
   ],
   "source": [
    "# 评论文本被转换为整数值，其中每个整数代表词典中的一个单词。首条评论是这样的：\n",
    "print(train_data[0])"
   ]
  },
  {
   "cell_type": "code",
   "execution_count": 5,
   "metadata": {},
   "outputs": [
    {
     "data": {
      "text/plain": [
       "(218, 189)"
      ]
     },
     "execution_count": 5,
     "metadata": {},
     "output_type": "execute_result"
    }
   ],
   "source": [
    "# 电影评论可能具有不同的长度。以下代码显示了第一条和第二条评论的中单词数量。由于神经网络的输入必须是统一的长度，我们稍后需要解决这个问题。\n",
    "len(train_data[0]), len(train_data[1])"
   ]
  },
  {
   "cell_type": "code",
   "execution_count": 6,
   "metadata": {},
   "outputs": [
    {
     "name": "stdout",
     "output_type": "stream",
     "text": [
      "Downloading data from https://storage.googleapis.com/tensorflow/tf-keras-datasets/imdb_word_index.json\n",
      "1646592/1641221 [==============================] - 1s 1us/step\n"
     ]
    }
   ],
   "source": [
    "# 将整数转换回单词\n",
    "# 了解如何将整数转换回文本对您可能是有帮助的。这里我们将创建一个辅助函数来查询一个包含了整数到字符串映射的字典对象：\n",
    "\n",
    "# 一个映射单词到整数索引的词典\n",
    "word_index = imdb.get_word_index()\n",
    "\n",
    "# 保留第一个索引\n",
    "word_index = {k:(v+3) for k,v in word_index.items()}\n",
    "word_index[\"<PAD>\"] = 0\n",
    "word_index[\"<START>\"] = 1\n",
    "word_index[\"<UNK>\"] = 2  # unknown\n",
    "word_index[\"<UNUSED>\"] = 3\n",
    "\n",
    "reverse_word_index = dict([(value, key) for (key, value) in word_index.items()])\n",
    "\n",
    "def decode_review(text):\n",
    "    return ' '.join([reverse_word_index.get(i, '?') for i in text])"
   ]
  },
  {
   "cell_type": "code",
   "execution_count": 7,
   "metadata": {},
   "outputs": [
    {
     "data": {
      "text/plain": [
       "\"<START> this film was just brilliant casting location scenery story direction everyone's really suited the part they played and you could just imagine being there robert <UNK> is an amazing actor and now the same being director <UNK> father came from the same scottish island as myself so i loved the fact there was a real connection with this film the witty remarks throughout the film were great it was just brilliant so much that i bought the film as soon as it was released for <UNK> and would recommend it to everyone to watch and the fly fishing was amazing really cried at the end it was so sad and you know what they say if you cry at a film it must have been good and this definitely was also <UNK> to the two little boy's that played the <UNK> of norman and paul they were just brilliant children are often left out of the <UNK> list i think because the stars that play them all grown up are such a big profile for the whole film but these children are amazing and should be praised for what they have done don't you think the whole story was so lovely because it was true and was someone's life after all that was shared with us all\""
      ]
     },
     "execution_count": 7,
     "metadata": {},
     "output_type": "execute_result"
    }
   ],
   "source": [
    "# 现在我们可以使用 decode_review 函数来显示首条评论的文本：\n",
    "decode_review(train_data[0])"
   ]
  },
  {
   "cell_type": "code",
   "execution_count": 20,
   "metadata": {},
   "outputs": [],
   "source": [
    "# 准备数据\n",
    "# 影评——即整数数组必须在输入神经网络之前转换为张量。这种转换可以通过以下两种方式来完成：\n",
    "\n",
    "# 将数组转换为表示单词出现与否的由 0 和 1 组成的向量，类似于 one-hot 编码。例如，序列[3, 5]将转换为一个 10,000 维的向量，\n",
    "# 该向量除了索引为 3 和 5 的位置是 1 以外，其他都为 0。然后，将其作为网络的首层——一个可以处理浮点型向量数据的稠密层。\n",
    "# 不过，这种方法需要大量的内存，需要一个大小为 num_words * num_reviews 的矩阵。\n",
    "\n",
    "# 或者，我们可以填充数组来保证输入数据具有相同的长度，然后创建一个大小为 max_length * num_reviews 的整型张量。\n",
    "# 我们可以使用能够处理此形状数据的嵌入层作为网络中的第一层。\n",
    "\n",
    "# 在本教程中，我们将使用第二种方法。\n",
    "# 由于电影评论长度必须相同，我们将使用 pad_sequences 函数来使长度标准化：\n",
    "\n",
    "\n",
    "train_data = keras.preprocessing.sequence.pad_sequences(train_data,\n",
    "                                                        value=word_index[\"<PAD>\"],\n",
    "                                                        padding='post',\n",
    "                                                        maxlen=256)\n",
    "\n",
    "test_data = keras.preprocessing.sequence.pad_sequences(test_data,\n",
    "                                                       value=word_index[\"<PAD>\"],\n",
    "                                                       padding='post',\n",
    "                                                       maxlen=256)"
   ]
  },
  {
   "cell_type": "code",
   "execution_count": 21,
   "metadata": {},
   "outputs": [
    {
     "data": {
      "text/plain": [
       "(256, 256)"
      ]
     },
     "execution_count": 21,
     "metadata": {},
     "output_type": "execute_result"
    }
   ],
   "source": [
    "# 现在让我们看下样本的长度：\n",
    "len(train_data[0]), len(train_data[1])"
   ]
  },
  {
   "cell_type": "code",
   "execution_count": 11,
   "metadata": {},
   "outputs": [
    {
     "name": "stdout",
     "output_type": "stream",
     "text": [
      "[   1   14   22   16   43  530  973 1622 1385   65  458 4468   66 3941\n",
      "    4  173   36  256    5   25  100   43  838  112   50  670    2    9\n",
      "   35  480  284    5  150    4  172  112  167    2  336  385   39    4\n",
      "  172 4536 1111   17  546   38   13  447    4  192   50   16    6  147\n",
      " 2025   19   14   22    4 1920 4613  469    4   22   71   87   12   16\n",
      "   43  530   38   76   15   13 1247    4   22   17  515   17   12   16\n",
      "  626   18    2    5   62  386   12    8  316    8  106    5    4 2223\n",
      " 5244   16  480   66 3785   33    4  130   12   16   38  619    5   25\n",
      "  124   51   36  135   48   25 1415   33    6   22   12  215   28   77\n",
      "   52    5   14  407   16   82    2    8    4  107  117 5952   15  256\n",
      "    4    2    7 3766    5  723   36   71   43  530  476   26  400  317\n",
      "   46    7    4    2 1029   13  104   88    4  381   15  297   98   32\n",
      " 2071   56   26  141    6  194 7486   18    4  226   22   21  134  476\n",
      "   26  480    5  144   30 5535   18   51   36   28  224   92   25  104\n",
      "    4  226   65   16   38 1334   88   12   16  283    5   16 4472  113\n",
      "  103   32   15   16 5345   19  178   32    0    0    0    0    0    0\n",
      "    0    0    0    0    0    0    0    0    0    0    0    0    0    0\n",
      "    0    0    0    0    0    0    0    0    0    0    0    0    0    0\n",
      "    0    0    0    0]\n"
     ]
    }
   ],
   "source": [
    "# 并检查一下首条评论（当前已经填充）：\n",
    "print(train_data[0])"
   ]
  },
  {
   "cell_type": "code",
   "execution_count": 22,
   "metadata": {},
   "outputs": [
    {
     "name": "stdout",
     "output_type": "stream",
     "text": [
      "Model: \"sequential_1\"\n",
      "_________________________________________________________________\n",
      "Layer (type)                 Output Shape              Param #   \n",
      "=================================================================\n",
      "embedding_1 (Embedding)      (None, None, 16)          16000     \n",
      "_________________________________________________________________\n",
      "global_average_pooling1d_1 ( (None, 16)                0         \n",
      "_________________________________________________________________\n",
      "dense_2 (Dense)              (None, 16)                272       \n",
      "_________________________________________________________________\n",
      "dense_3 (Dense)              (None, 1)                 17        \n",
      "=================================================================\n",
      "Total params: 16,289\n",
      "Trainable params: 16,289\n",
      "Non-trainable params: 0\n",
      "_________________________________________________________________\n"
     ]
    }
   ],
   "source": [
    "# 构建模型\n",
    "# 神经网络由堆叠的层来构建，这需要从两个主要方面来进行体系结构决策：\n",
    "\n",
    "# 模型里有多少层？\n",
    "# 每个层里有多少隐层单元（hidden units）？\n",
    "# 在此样本中，输入数据包含一个单词索引的数组。要预测的标签为 0 或 1。让我们来为该问题构建一个模型：\n",
    "\n",
    "# 输入形状是用于电影评论的词汇数目（10,000 词）\n",
    "vocab_size = 1000\n",
    "\n",
    "model = keras.Sequential()\n",
    "model.add(keras.layers.Embedding(vocab_size, 16))\n",
    "model.add(keras.layers.GlobalAveragePooling1D())\n",
    "model.add(keras.layers.Dense(16, activation='relu'))\n",
    "model.add(keras.layers.Dense(1, activation='sigmoid'))\n",
    "\n",
    "model.summary()"
   ]
  },
  {
   "cell_type": "code",
   "execution_count": 23,
   "metadata": {},
   "outputs": [],
   "source": [
    "# 层按顺序堆叠以构建分类器：\n",
    "\n",
    "# 第一层是嵌入（Embedding）层。该层采用整数编码的词汇表，并查找每个词索引的嵌入向量（embedding vector）。这些向量是通过模型训练学习到的。向量向输出数组增加了一个维度。得到的维度为：(batch, sequence, embedding)。\n",
    "# 接下来，GlobalAveragePooling1D 将通过对序列维度求平均值来为每个样本返回一个定长输出向量。这允许模型以尽可能最简单的方式处理变长输入。\n",
    "# 该定长输出向量通过一个有 16 个隐层单元的全连接（Dense）层传输。\n",
    "# 最后一层与单个输出结点密集连接。使用 Sigmoid 激活函数，其函数值为介于 0 与 1 之间的浮点数，表示概率或置信度。\n",
    "# 隐层单元\n",
    "# 上述模型在输入输出之间有两个中间层或“隐藏层”。输出（单元，结点或神经元）的数量即为层表示空间的维度。换句话说，是学习内部表示时网络所允许的自由度。\n",
    "\n",
    "# 如果模型具有更多的隐层单元（更高维度的表示空间）和/或更多层，则可以学习到更复杂的表示。但是，这会使网络的计算成本更高，并且可能导致学习到不需要的模式——一些能够在训练数据上而不是测试数据上改善性能的模式。这被称为过拟合（overfitting），我们稍后会对此进行探究。\n",
    "\n",
    "# 损失函数与优化器\n",
    "# 一个模型需要损失函数和优化器来进行训练。由于这是一个二分类问题且模型输出概率值（一个使用 sigmoid 激活函数的单一单元层），我们将使用 binary_crossentropy 损失函数。\n",
    "\n",
    "# 这不是损失函数的唯一选择，例如，您可以选择 mean_squared_error 。但是，一般来说 binary_crossentropy 更适合处理概率——它能够度量概率分布之间的“距离”，或者在我们的示例中，指的是度量 ground-truth 分布与预测值之间的“距离”。\n",
    "\n",
    "# 稍后，当我们研究回归问题（例如，预测房价）时，我们将介绍如何使用另一种叫做均方误差的损失函数。\n",
    "\n",
    "# 现在，配置模型来使用优化器和损失函数：\n",
    "model.compile(optimizer='adam',\n",
    "              loss='binary_crossentropy',\n",
    "              metrics=['accuracy'])"
   ]
  },
  {
   "cell_type": "code",
   "execution_count": 24,
   "metadata": {},
   "outputs": [],
   "source": [
    "# 创建一个验证集\n",
    "# 在训练时，我们想要检查模型在未见过的数据上的准确率（accuracy）。通过从原始训练数据中分离 10,000 个样本来创建一个验证集。\n",
    "# （为什么现在不使用测试集？我们的目标是只使用训练数据来开发和调整模型，然后只使用一次测试数据来评估准确率（accuracy））。\n",
    "x_val = train_data[:10000]\n",
    "partial_x_train = train_data[10000:]\n",
    "\n",
    "y_val = train_labels[:10000]\n",
    "partial_y_train = train_labels[10000:]"
   ]
  },
  {
   "cell_type": "code",
   "execution_count": 25,
   "metadata": {},
   "outputs": [
    {
     "name": "stdout",
     "output_type": "stream",
     "text": [
      "Train on 15000 samples, validate on 10000 samples\n",
      "Epoch 1/40\n",
      "15000/15000 [==============================] - 1s 75us/sample - loss: 0.6921 - accuracy: 0.5310 - val_loss: 0.6906 - val_accuracy: 0.6820\n",
      "Epoch 2/40\n",
      "15000/15000 [==============================] - 1s 42us/sample - loss: 0.6880 - accuracy: 0.6720 - val_loss: 0.6849 - val_accuracy: 0.6413\n",
      "Epoch 3/40\n",
      "15000/15000 [==============================] - 1s 47us/sample - loss: 0.6797 - accuracy: 0.6470 - val_loss: 0.6740 - val_accuracy: 0.7069\n",
      "Epoch 4/40\n",
      "15000/15000 [==============================] - 1s 38us/sample - loss: 0.6647 - accuracy: 0.7121 - val_loss: 0.6563 - val_accuracy: 0.7187\n",
      "Epoch 5/40\n",
      "15000/15000 [==============================] - 1s 37us/sample - loss: 0.6428 - accuracy: 0.7287 - val_loss: 0.6324 - val_accuracy: 0.7189\n",
      "Epoch 6/40\n",
      "15000/15000 [==============================] - 1s 34us/sample - loss: 0.6151 - accuracy: 0.7455 - val_loss: 0.6040 - val_accuracy: 0.7564\n",
      "Epoch 7/40\n",
      "15000/15000 [==============================] - 1s 34us/sample - loss: 0.5834 - accuracy: 0.7649 - val_loss: 0.5716 - val_accuracy: 0.7695\n",
      "Epoch 8/40\n",
      "15000/15000 [==============================] - 1s 35us/sample - loss: 0.5488 - accuracy: 0.7817 - val_loss: 0.5387 - val_accuracy: 0.7806\n",
      "Epoch 9/40\n",
      "15000/15000 [==============================] - 1s 36us/sample - loss: 0.5150 - accuracy: 0.7988 - val_loss: 0.5078 - val_accuracy: 0.7915\n",
      "Epoch 10/40\n",
      "15000/15000 [==============================] - 1s 38us/sample - loss: 0.4837 - accuracy: 0.8137 - val_loss: 0.4792 - val_accuracy: 0.8044\n",
      "Epoch 11/40\n",
      "15000/15000 [==============================] - 1s 39us/sample - loss: 0.4567 - accuracy: 0.8213 - val_loss: 0.4546 - val_accuracy: 0.8141\n",
      "Epoch 12/40\n",
      "15000/15000 [==============================] - 1s 36us/sample - loss: 0.4339 - accuracy: 0.8276 - val_loss: 0.4355 - val_accuracy: 0.8235\n",
      "Epoch 13/40\n",
      "15000/15000 [==============================] - 1s 37us/sample - loss: 0.4154 - accuracy: 0.8324 - val_loss: 0.4196 - val_accuracy: 0.8260\n",
      "Epoch 14/40\n",
      "15000/15000 [==============================] - 1s 43us/sample - loss: 0.4000 - accuracy: 0.8387 - val_loss: 0.4068 - val_accuracy: 0.8327\n",
      "Epoch 15/40\n",
      "15000/15000 [==============================] - 1s 41us/sample - loss: 0.3877 - accuracy: 0.8409 - val_loss: 0.3969 - val_accuracy: 0.8348\n",
      "Epoch 16/40\n",
      "15000/15000 [==============================] - 1s 39us/sample - loss: 0.3778 - accuracy: 0.8454 - val_loss: 0.3894 - val_accuracy: 0.8362\n",
      "Epoch 17/40\n",
      "15000/15000 [==============================] - 1s 39us/sample - loss: 0.3686 - accuracy: 0.8480 - val_loss: 0.3816 - val_accuracy: 0.8410\n",
      "Epoch 18/40\n",
      "15000/15000 [==============================] - 1s 34us/sample - loss: 0.3614 - accuracy: 0.8499 - val_loss: 0.3759 - val_accuracy: 0.8428\n",
      "Epoch 19/40\n",
      "15000/15000 [==============================] - 1s 36us/sample - loss: 0.3545 - accuracy: 0.8530 - val_loss: 0.3730 - val_accuracy: 0.8407\n",
      "Epoch 20/40\n",
      "15000/15000 [==============================] - 0s 31us/sample - loss: 0.3487 - accuracy: 0.8551 - val_loss: 0.3677 - val_accuracy: 0.8456\n",
      "Epoch 21/40\n",
      "15000/15000 [==============================] - 0s 30us/sample - loss: 0.3434 - accuracy: 0.8579 - val_loss: 0.3641 - val_accuracy: 0.8464\n",
      "Epoch 22/40\n",
      "15000/15000 [==============================] - 1s 39us/sample - loss: 0.3385 - accuracy: 0.8597 - val_loss: 0.3619 - val_accuracy: 0.8486\n",
      "Epoch 23/40\n",
      "15000/15000 [==============================] - 1s 38us/sample - loss: 0.3354 - accuracy: 0.8609 - val_loss: 0.3585 - val_accuracy: 0.8484\n",
      "Epoch 24/40\n",
      "15000/15000 [==============================] - 1s 38us/sample - loss: 0.3308 - accuracy: 0.8623 - val_loss: 0.3572 - val_accuracy: 0.8483\n",
      "Epoch 25/40\n",
      "15000/15000 [==============================] - 1s 38us/sample - loss: 0.3276 - accuracy: 0.8635 - val_loss: 0.3546 - val_accuracy: 0.8502\n",
      "Epoch 26/40\n",
      "15000/15000 [==============================] - 1s 35us/sample - loss: 0.3255 - accuracy: 0.8640 - val_loss: 0.3525 - val_accuracy: 0.8516\n",
      "Epoch 27/40\n",
      "15000/15000 [==============================] - 1s 35us/sample - loss: 0.3221 - accuracy: 0.8673 - val_loss: 0.3515 - val_accuracy: 0.8521\n",
      "Epoch 28/40\n",
      "15000/15000 [==============================] - 1s 35us/sample - loss: 0.3182 - accuracy: 0.8678 - val_loss: 0.3500 - val_accuracy: 0.8526\n",
      "Epoch 29/40\n",
      "15000/15000 [==============================] - 1s 35us/sample - loss: 0.3165 - accuracy: 0.8687 - val_loss: 0.3496 - val_accuracy: 0.8534\n",
      "Epoch 30/40\n",
      "15000/15000 [==============================] - 1s 35us/sample - loss: 0.3140 - accuracy: 0.8706 - val_loss: 0.3482 - val_accuracy: 0.8536\n",
      "Epoch 31/40\n",
      "15000/15000 [==============================] - 1s 35us/sample - loss: 0.3121 - accuracy: 0.8703 - val_loss: 0.3476 - val_accuracy: 0.8542\n",
      "Epoch 32/40\n",
      "15000/15000 [==============================] - 1s 35us/sample - loss: 0.3107 - accuracy: 0.8711 - val_loss: 0.3477 - val_accuracy: 0.8540\n",
      "Epoch 33/40\n",
      "15000/15000 [==============================] - 1s 37us/sample - loss: 0.3083 - accuracy: 0.8736 - val_loss: 0.3463 - val_accuracy: 0.8552\n",
      "Epoch 34/40\n",
      "15000/15000 [==============================] - 1s 38us/sample - loss: 0.3072 - accuracy: 0.8727 - val_loss: 0.3470 - val_accuracy: 0.8538\n",
      "Epoch 35/40\n",
      "15000/15000 [==============================] - 1s 44us/sample - loss: 0.3058 - accuracy: 0.8731 - val_loss: 0.3461 - val_accuracy: 0.8559\n",
      "Epoch 36/40\n",
      "15000/15000 [==============================] - 1s 48us/sample - loss: 0.3039 - accuracy: 0.8741 - val_loss: 0.3457 - val_accuracy: 0.8548\n",
      "Epoch 37/40\n",
      "15000/15000 [==============================] - 1s 50us/sample - loss: 0.3028 - accuracy: 0.8750 - val_loss: 0.3452 - val_accuracy: 0.8547\n",
      "Epoch 38/40\n",
      "15000/15000 [==============================] - 1s 53us/sample - loss: 0.3020 - accuracy: 0.8753 - val_loss: 0.3455 - val_accuracy: 0.8544\n",
      "Epoch 39/40\n",
      "15000/15000 [==============================] - 1s 59us/sample - loss: 0.3009 - accuracy: 0.8754 - val_loss: 0.3451 - val_accuracy: 0.8556\n",
      "Epoch 40/40\n",
      "15000/15000 [==============================] - 1s 55us/sample - loss: 0.2997 - accuracy: 0.8758 - val_loss: 0.3457 - val_accuracy: 0.8544\n"
     ]
    }
   ],
   "source": [
    "# 训练模型\n",
    "# 以 512 个样本的 mini-batch 大小迭代 40 个 epoch 来训练模型。这是指对 x_train 和 y_train 张量中所有样本的的 40 次迭代。\n",
    "# 在训练过程中，监测来自验证集的 10,000 个样本上的损失值（loss）和准确率（accuracy）：\n",
    "\n",
    "\n",
    "history = model.fit(partial_x_train,\n",
    "                    partial_y_train,\n",
    "                    epochs=40,\n",
    "                    batch_size=512,\n",
    "                    validation_data=(x_val, y_val),\n",
    "                    verbose=1)"
   ]
  },
  {
   "cell_type": "code",
   "execution_count": 26,
   "metadata": {},
   "outputs": [
    {
     "name": "stdout",
     "output_type": "stream",
     "text": [
      "25000/1 - 1s - loss: 0.3470 - accuracy: 0.8552\n",
      "[0.33805985779762265, 0.85516]\n"
     ]
    }
   ],
   "source": [
    "# 评估模型\n",
    "# 我们来看一下模型的性能如何。将返回两个值。损失值（loss）（一个表示误差的数字，值越低越好）与准确率（accuracy）。\n",
    "results = model.evaluate(test_data,  test_labels, verbose=2)\n",
    "\n",
    "print(results)"
   ]
  },
  {
   "cell_type": "code",
   "execution_count": 27,
   "metadata": {},
   "outputs": [
    {
     "data": {
      "text/plain": [
       "dict_keys(['loss', 'accuracy', 'val_loss', 'val_accuracy'])"
      ]
     },
     "execution_count": 27,
     "metadata": {},
     "output_type": "execute_result"
    }
   ],
   "source": [
    "# 创建一个准确率（accuracy）和损失值（loss）随时间变化的图表\n",
    "# model.fit() 返回一个 History 对象，该对象包含一个字典，其中包含训练阶段所发生的一切事件：\n",
    "\n",
    "history_dict = history.history\n",
    "history_dict.keys()"
   ]
  },
  {
   "cell_type": "code",
   "execution_count": 29,
   "metadata": {},
   "outputs": [
    {
     "data": {
      "image/png": "[encoded data removed]",
      "text/plain": [
       "<Figure size 432x288 with 1 Axes>"
      ]
     },
     "metadata": {
      "needs_background": "light"
     },
     "output_type": "display_data"
    }
   ],
   "source": [
    "# 有四个条目：在训练和验证期间，每个条目对应一个监控指标。我们可以使用这些条目来绘制训练与验证过程的损失值（loss）和准确率（accuracy），以便进行比较。\n",
    "\n",
    "\n",
    "import matplotlib.pyplot as plt\n",
    "\n",
    "acc = history_dict['accuracy']\n",
    "val_acc = history_dict['val_accuracy']\n",
    "loss = history_dict['loss']\n",
    "val_loss = history_dict['val_loss']\n",
    "\n",
    "epochs = range(1, len(acc) + 1)\n",
    "\n",
    "# “bo”代表 \"蓝点\"\n",
    "plt.plot(epochs, loss, 'bo', label='Training loss')\n",
    "# b代表“蓝色实线”\n",
    "plt.plot(epochs, val_loss, 'b', label='Validation loss')\n",
    "plt.title('Training and validation loss')\n",
    "plt.xlabel('Epochs')\n",
    "plt.ylabel('Loss')\n",
    "plt.legend()\n",
    "\n",
    "plt.show()"
   ]
  },
  {
   "cell_type": "code",
   "execution_count": 30,
   "metadata": {},
   "outputs": [
    {
     "data": {
      "image/png": "[encoded data removed]",
      "text/plain": [
       "<Figure size 432x288 with 1 Axes>"
      ]
     },
     "metadata": {
      "needs_background": "light"
     },
     "output_type": "display_data"
    }
   ],
   "source": [
    "# 在该图中，点代表训练损失值（loss）与准确率（accuracy），实线代表验证损失值（loss）与准确率（accuracy）。\n",
    "# 注意训练损失值随每一个 epoch 下降而训练准确率（accuracy）随每一个 epoch 上升。这在使用梯度下降优化时是可预期的——理应在每次迭代中最小化期望值。\n",
    "\n",
    "# 验证过程的损失值（loss）与准确率（accuracy）的情况却并非如此——它们似乎在 20 个 epoch 后达到峰值。\n",
    "# 这是过拟合的一个实例：模型在训练数据上的表现比在以前从未见过的数据上的表现要更好。\n",
    "# 在此之后，模型过度优化并学习特定于训练数据的表示，而不能够泛化到测试数据。\n",
    "\n",
    "# 对于这种特殊情况，我们可以通过在 20 个左右的 epoch 后停止训练来避免过拟合。稍后，您将看到如何通过回调自动执行此操作。\n",
    "\n",
    "plt.clf()   # 清除数字\n",
    "\n",
    "plt.plot(epochs, acc, 'bo', label='Training acc')\n",
    "plt.plot(epochs, val_acc, 'b', label='Validation acc')\n",
    "plt.title('Training and validation accuracy')\n",
    "plt.xlabel('Epochs')\n",
    "plt.ylabel('Accuracy')\n",
    "plt.legend()\n",
    "\n",
    "plt.show()"
   ]
  },
  {
   "cell_type": "code",
   "execution_count": null,
   "metadata": {},
   "outputs": [],
   "source": []
  }
 ],
 "metadata": {
  "kernelspec": {
   "display_name": "Python 3",
   "language": "python",
   "name": "python3"
  },
  "language_info": {
   "codemirror_mode": {
    "name": "ipython",
    "version": 3
   },
   "file_extension": ".py",
   "mimetype": "text/x-python",
   "name": "python",
   "nbconvert_exporter": "python",
   "pygments_lexer": "ipython3",
   "version": "3.5.2"
  }
 },
 "nbformat": 4,
 "nbformat_minor": 2
}
