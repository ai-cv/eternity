{
 "cells": [
  {
   "cell_type": "code",
   "execution_count": 3,
   "metadata": {
    "colab": {},
    "colab_type": "code",
    "id": "2ew7HTbPpCJH"
   },
   "outputs": [
    {
     "name": "stdout",
     "output_type": "stream",
     "text": [
      "2.0.0\n"
     ]
    }
   ],
   "source": [
    "from __future__ import absolute_import, division, print_function, unicode_literals\n",
    "\n",
    "try:\n",
    "  # Colab only\n",
    "  %tensorflow_version 2.x\n",
    "except Exception:\n",
    "    pass\n",
    "import tensorflow as tf\n",
    "from tensorflow import keras\n",
    "import jieba\n",
    "import os\n",
    "import numpy as np\n",
    "import re\n",
    "import collections\n",
    "\n",
    "print(tf.__version__)"
   ]
  },
  {
   "cell_type": "code",
   "execution_count": 4,
   "metadata": {},
   "outputs": [],
   "source": [
    "pos_path = '../../data/pos/'\n",
    "neg_path = '../../data/neg/'\n",
    "pos_list = os.listdir(pos_path)\n",
    "neg_list = os.listdir(neg_path)"
   ]
  },
  {
   "cell_type": "code",
   "execution_count": 5,
   "metadata": {},
   "outputs": [
    {
     "name": "stdout",
     "output_type": "stream",
     "text": [
      "waimai_pos_1\n",
      "waimai_neg_1\n"
     ]
    },
    {
     "data": {
      "text/plain": [
       "(None, None)"
      ]
     },
     "execution_count": 5,
     "metadata": {},
     "output_type": "execute_result"
    }
   ],
   "source": [
    "print(pos_list[0]),print(neg_list[0])"
   ]
  },
  {
   "cell_type": "code",
   "execution_count": 6,
   "metadata": {},
   "outputs": [],
   "source": [
    "# 停用词词典\n",
    "stop_words = []\n",
    "# 读取停用词函数\n",
    "with open(\"../../data/stop_words_line.txt\", encoding=\"utf-8\") as st:\n",
    "    stop_words = st.readline().split(\" \")\n",
    "\n",
    "def delete_stop_words(words):\n",
    "    new_words = []\n",
    "    for word in words:\n",
    "        if word not in stop_words:\n",
    "            new_words.append(word)\n",
    "    return new_words\n",
    "\n",
    "def str_strim(line):\n",
    "    new_line = re.sub(\"[\\s+\\.\\!\\/_,$%^*(+\\\"\\']+|[+——！，。？、~@#￥%……&*（）]+\", \"\", line)\n",
    "    return new_line.strip().strip().replace(\" \", \"\").replace(\"\\r\", \"\").replace(\"\\n\", \"\")\n",
    "\n",
    "def segment(line):\n",
    "    return delete_stop_words(jieba.cut(str_strim(line)))\n",
    "\n",
    "def read_data():\n",
    "    # 所有词\n",
    "    data = []\n",
    "    # 训练样本\n",
    "    train_data = []\n",
    "    label = []\n",
    "    for doc in pos_list:\n",
    "        with open(pos_path + doc, 'r', encoding='utf-8') as f:\n",
    "            lines = f.readlines()\n",
    "            for line in lines:\n",
    "                words = segment(line)\n",
    "                vector = []\n",
    "                for word in words:\n",
    "                    vector.append(word)\n",
    "                    data.append(word)\n",
    "                train_data.append(vector)\n",
    "                label.append(1)\n",
    "    for doc in neg_list:\n",
    "        with open(neg_path + doc, 'r', encoding='utf-8') as f:\n",
    "            lines = f.readlines()\n",
    "            for line in lines:\n",
    "                words = segment(line)\n",
    "                vector = []\n",
    "                for word in words:\n",
    "                    vector.append(word)\n",
    "                    data.append(word)\n",
    "                train_data.append(vector)\n",
    "                label.append(0)\n",
    "    return data,train_data, label"
   ]
  },
  {
   "cell_type": "code",
   "execution_count": 7,
   "metadata": {},
   "outputs": [
    {
     "name": "stderr",
     "output_type": "stream",
     "text": [
      "Building prefix dict from the default dictionary ...\n",
      "Loading model from cache /tmp/jieba.cache\n",
      "Loading model cost 1.496 seconds.\n",
      "Prefix dict has been built succesfully.\n"
     ]
    },
    {
     "data": {
      "text/plain": [
       "89854"
      ]
     },
     "execution_count": 7,
     "metadata": {},
     "output_type": "execute_result"
    }
   ],
   "source": [
    "data, train_data_origin, train_label = read_data()\n",
    "data_size = len(data)\n",
    "len(data)"
   ]
  },
  {
   "cell_type": "code",
   "execution_count": 8,
   "metadata": {},
   "outputs": [],
   "source": [
    "count = [['哦', -1]]\n",
    "count.extend(collections.Counter(data).most_common(data_size - 1))"
   ]
  },
  {
   "cell_type": "code",
   "execution_count": 9,
   "metadata": {},
   "outputs": [
    {
     "data": {
      "text/plain": [
       "(('味道', 1583), ['哦', -1], -1)"
      ]
     },
     "execution_count": 9,
     "metadata": {},
     "output_type": "execute_result"
    }
   ],
   "source": [
    "count[1],count[0],count[0][1]"
   ]
  },
  {
   "cell_type": "code",
   "execution_count": 10,
   "metadata": {},
   "outputs": [],
   "source": [
    "dictionary = {}\n",
    "for word, _ in count:\n",
    "    dictionary[word] = len(dictionary)"
   ]
  },
  {
   "cell_type": "code",
   "execution_count": 11,
   "metadata": {},
   "outputs": [],
   "source": [
    "train_data_num = []\n",
    "default_count = 0\n",
    "for word in data:\n",
    "    index = dictionary.get(word, 0)\n",
    "    # 默认\n",
    "    if index == 0:  \n",
    "        default_count += 1\n",
    "    train_data_num.append(index)\n",
    "count[0][1] = default_count\n",
    "reverse_dictionary = dict(zip(dictionary.values(), dictionary.keys()))"
   ]
  },
  {
   "cell_type": "code",
   "execution_count": 12,
   "metadata": {},
   "outputs": [],
   "source": [
    "train_data_num = []\n",
    "default_count = 0\n",
    "for words in train_data_origin:\n",
    "    vector = []\n",
    "    for word in words:\n",
    "        index = dictionary.get(word, 0)\n",
    "        # 默认\n",
    "        if index == 0:  \n",
    "            default_count += 1\n",
    "        vector.append(index)\n",
    "    train_data_num.append(vector)\n",
    "count[0][1] = default_count\n",
    "reverse_dictionary = dict(zip(dictionary.values(), dictionary.keys()))"
   ]
  },
  {
   "cell_type": "code",
   "execution_count": 13,
   "metadata": {},
   "outputs": [
    {
     "data": {
      "text/plain": [
       "([21, 2, 1, 4271], ['哦', 0], 0)"
      ]
     },
     "execution_count": 13,
     "metadata": {},
     "output_type": "execute_result"
    }
   ],
   "source": [
    "train_data_num[0], count[0], dictionary.get('哦')"
   ]
  },
  {
   "cell_type": "code",
   "execution_count": 14,
   "metadata": {},
   "outputs": [
    {
     "data": {
      "text/plain": [
       "[['哦', 0], ('味道', 1583), ('好吃', 1563), ('吃', 1542), ('送餐', 1541)]"
      ]
     },
     "execution_count": 14,
     "metadata": {},
     "output_type": "execute_result"
    }
   ],
   "source": [
    "count[:5]"
   ]
  },
  {
   "cell_type": "code",
   "execution_count": 15,
   "metadata": {},
   "outputs": [
    {
     "data": {
      "text/plain": [
       "[[21, 2, 1, 4271],\n",
       " [3066, 3066, 3066],\n",
       " [27],\n",
       " [2478, 1, 975, 2155, 316],\n",
       " [15, 1, 228, 4]]"
      ]
     },
     "execution_count": 15,
     "metadata": {},
     "output_type": "execute_result"
    }
   ],
   "source": [
    "train_data_num[:5]"
   ]
  },
  {
   "cell_type": "code",
   "execution_count": 16,
   "metadata": {},
   "outputs": [
    {
     "data": {
      "text/plain": [
       "['很快', '好吃', '味道', '足量']"
      ]
     },
     "execution_count": 16,
     "metadata": {},
     "output_type": "execute_result"
    }
   ],
   "source": [
    "[reverse_dictionary[i] for i in train_data_num[0]]"
   ]
  },
  {
   "cell_type": "code",
   "execution_count": 17,
   "metadata": {},
   "outputs": [
    {
     "data": {
      "text/plain": [
       "(list, list, int)"
      ]
     },
     "execution_count": 17,
     "metadata": {},
     "output_type": "execute_result"
    }
   ],
   "source": [
    "type(train_data_num),type(train_data_num[0]),type(train_data_num[0][0])"
   ]
  },
  {
   "cell_type": "code",
   "execution_count": 18,
   "metadata": {
    "scrolled": false
   },
   "outputs": [],
   "source": [
    "# train_data = keras.preprocessing.sequence.pad_sequences([[1,2],[4,6,7,8]],padding='post',maxlen=1024)\n",
    "train_data = keras.preprocessing.sequence.pad_sequences(train_data_num,padding='post',maxlen=256)"
   ]
  },
  {
   "cell_type": "code",
   "execution_count": 19,
   "metadata": {
    "scrolled": false
   },
   "outputs": [
    {
     "name": "stdout",
     "output_type": "stream",
     "text": [
      "[3066 3066 3066    0    0    0    0    0    0    0    0    0    0    0\n",
      "    0    0    0    0    0    0    0    0    0    0    0    0    0    0\n",
      "    0    0    0    0    0    0    0    0    0    0    0    0    0    0\n",
      "    0    0    0    0    0    0    0    0    0    0    0    0    0    0\n",
      "    0    0    0    0    0    0    0    0    0    0    0    0    0    0\n",
      "    0    0    0    0    0    0    0    0    0    0    0    0    0    0\n",
      "    0    0    0    0    0    0    0    0    0    0    0    0    0    0\n",
      "    0    0    0    0    0    0    0    0    0    0    0    0    0    0\n",
      "    0    0    0    0    0    0    0    0    0    0    0    0    0    0\n",
      "    0    0    0    0    0    0    0    0    0    0    0    0    0    0\n",
      "    0    0    0    0    0    0    0    0    0    0    0    0    0    0\n",
      "    0    0    0    0    0    0    0    0    0    0    0    0    0    0\n",
      "    0    0    0    0    0    0    0    0    0    0    0    0    0    0\n",
      "    0    0    0    0    0    0    0    0    0    0    0    0    0    0\n",
      "    0    0    0    0    0    0    0    0    0    0    0    0    0    0\n",
      "    0    0    0    0    0    0    0    0    0    0    0    0    0    0\n",
      "    0    0    0    0    0    0    0    0    0    0    0    0    0    0\n",
      "    0    0    0    0    0    0    0    0    0    0    0    0    0    0\n",
      "    0    0    0    0]\n"
     ]
    }
   ],
   "source": [
    "print(train_data[1])"
   ]
  },
  {
   "cell_type": "code",
   "execution_count": 20,
   "metadata": {
    "colab": {},
    "colab_type": "code",
    "id": "xpKOoWgu-llD",
    "scrolled": false
   },
   "outputs": [],
   "source": [
    "# 层按顺序堆叠以构建分类器：\n",
    "# 第一层是嵌入（Embedding）层。该层采用整数编码的词汇表，并查找每个词索引的嵌入向量（embedding vector）。这些向量是通过模型训练学习到的。向量向输出数组增加了一个维度。得到的维度为：(batch, sequence, embedding)。\n",
    "# 接下来，GlobalAveragePooling1D 将通过对序列维度求平均值来为每个样本返回一个定长输出向量。这允许模型以尽可能最简单的方式处理变长输入。\n",
    "# 该定长输出向量通过一个有 16 个隐层单元的全连接（Dense）层传输。\n",
    "# 最后一层与单个输出结点密集连接。使用 Sigmoid 激活函数，其函数值为介于 0 与 1 之间的浮点数，表示概率或置信度。\n",
    "# 输入形状是用于电影评论的词汇数目（10,000 词）\n",
    "\n",
    "model = keras.Sequential()\n",
    "model.add(keras.layers.Embedding(len(data), 16))\n",
    "model.add(keras.layers.GlobalAveragePooling1D())\n",
    "model.add(keras.layers.Dense(16, activation='relu'))\n",
    "model.add(keras.layers.Dense(1, activation='sigmoid'))"
   ]
  },
  {
   "cell_type": "code",
   "execution_count": 21,
   "metadata": {},
   "outputs": [
    {
     "name": "stdout",
     "output_type": "stream",
     "text": [
      "Model: \"sequential\"\n",
      "_________________________________________________________________\n",
      "Layer (type)                 Output Shape              Param #   \n",
      "=================================================================\n",
      "embedding (Embedding)        (None, None, 16)          1437664   \n",
      "_________________________________________________________________\n",
      "global_average_pooling1d (Gl (None, 16)                0         \n",
      "_________________________________________________________________\n",
      "dense (Dense)                (None, 16)                272       \n",
      "_________________________________________________________________\n",
      "dense_1 (Dense)              (None, 1)                 17        \n",
      "=================================================================\n",
      "Total params: 1,437,953\n",
      "Trainable params: 1,437,953\n",
      "Non-trainable params: 0\n",
      "_________________________________________________________________\n"
     ]
    }
   ],
   "source": [
    "model.summary()"
   ]
  },
  {
   "cell_type": "code",
   "execution_count": 22,
   "metadata": {
    "colab": {},
    "colab_type": "code",
    "id": "Mr0GP-cQ-llN"
   },
   "outputs": [],
   "source": [
    "# 一个模型需要损失函数和优化器来进行训练。由于这是一个二分类问题且模型输出概率值（一个使用 sigmoid 激活函数的单一单元层），\n",
    "# 我们将使用 binary_crossentropy 损失函数。这不是损失函数的唯一选择，例如，您可以选择 mean_squared_error 。\n",
    "# 但是，一般来说 binary_crossentropy 更适合处理概率——它能够度量概率分布之间的“距离”，或者在我们的示例中，\n",
    "# 指的是度量 ground-truth 分布与预测值之间的“距离”。\n",
    "\n",
    "# 现在，配置模型来使用优化器和损失函数：\n",
    "model.compile(optimizer='adam',\n",
    "              loss='binary_crossentropy',\n",
    "              metrics=['accuracy'])"
   ]
  },
  {
   "cell_type": "code",
   "execution_count": 23,
   "metadata": {},
   "outputs": [],
   "source": [
    "# train_data = train_data.astype(np.int64)\n",
    "train_label = np.array(train_label)"
   ]
  },
  {
   "cell_type": "code",
   "execution_count": 24,
   "metadata": {},
   "outputs": [
    {
     "data": {
      "text/plain": [
       "(11987, 11987)"
      ]
     },
     "execution_count": 24,
     "metadata": {},
     "output_type": "execute_result"
    }
   ],
   "source": [
    "len(train_data),len(train_label)"
   ]
  },
  {
   "cell_type": "code",
   "execution_count": 25,
   "metadata": {
    "colab": {},
    "colab_type": "code",
    "id": "-NpcXY9--llS"
   },
   "outputs": [],
   "source": [
    "# 创建一个验证集\n",
    "train_size = 10000\n",
    "x_val = train_data[train_size:]\n",
    "y_val = train_label[train_size:]\n",
    "\n",
    "partial_x_train = train_data[:train_size]\n",
    "partial_y_train = train_label[:train_size]"
   ]
  },
  {
   "cell_type": "code",
   "execution_count": 26,
   "metadata": {},
   "outputs": [
    {
     "data": {
      "text/plain": [
       "(numpy.ndarray, numpy.ndarray, numpy.int32, numpy.ndarray, numpy.int64)"
      ]
     },
     "execution_count": 26,
     "metadata": {},
     "output_type": "execute_result"
    }
   ],
   "source": [
    "type(partial_x_train), type(partial_x_train[0]), type(partial_x_train[0][0]),type(partial_y_train),type(partial_y_train[0])"
   ]
  },
  {
   "cell_type": "code",
   "execution_count": 27,
   "metadata": {},
   "outputs": [
    {
     "data": {
      "text/plain": [
       "(10000, 10000, 1987, 1987)"
      ]
     },
     "execution_count": 27,
     "metadata": {},
     "output_type": "execute_result"
    }
   ],
   "source": [
    "len(partial_x_train),len(partial_y_train),len(x_val),len(y_val)"
   ]
  },
  {
   "cell_type": "code",
   "execution_count": 28,
   "metadata": {
    "colab": {},
    "colab_type": "code",
    "id": "D6G9oqEV-Se-",
    "scrolled": true
   },
   "outputs": [
    {
     "name": "stdout",
     "output_type": "stream",
     "text": [
      "Train on 10000 samples, validate on 1987 samples\n",
      "Epoch 1/100\n",
      "10000/10000 [==============================] - 2s 213us/sample - loss: 0.6868 - accuracy: 0.6000 - val_loss: 0.6285 - val_accuracy: 1.0000\n",
      "Epoch 2/100\n",
      "10000/10000 [==============================] - 1s 66us/sample - loss: 0.6792 - accuracy: 0.6000 - val_loss: 0.5746 - val_accuracy: 1.0000\n",
      "Epoch 3/100\n",
      "10000/10000 [==============================] - 1s 70us/sample - loss: 0.6744 - accuracy: 0.6000 - val_loss: 0.5286 - val_accuracy: 1.0000\n",
      "Epoch 4/100\n",
      "10000/10000 [==============================] - 1s 73us/sample - loss: 0.6729 - accuracy: 0.6000 - val_loss: 0.5105 - val_accuracy: 1.0000\n",
      "Epoch 5/100\n",
      "10000/10000 [==============================] - 1s 74us/sample - loss: 0.6726 - accuracy: 0.6000 - val_loss: 0.5125 - val_accuracy: 1.0000\n",
      "Epoch 6/100\n",
      "10000/10000 [==============================] - 1s 72us/sample - loss: 0.6721 - accuracy: 0.6000 - val_loss: 0.5043 - val_accuracy: 1.0000\n",
      "Epoch 7/100\n",
      "10000/10000 [==============================] - 1s 73us/sample - loss: 0.6717 - accuracy: 0.6000 - val_loss: 0.5086 - val_accuracy: 1.0000\n",
      "Epoch 8/100\n",
      "10000/10000 [==============================] - 1s 75us/sample - loss: 0.6712 - accuracy: 0.6000 - val_loss: 0.5107 - val_accuracy: 1.0000\n",
      "Epoch 9/100\n",
      "10000/10000 [==============================] - 1s 73us/sample - loss: 0.6705 - accuracy: 0.6000 - val_loss: 0.5042 - val_accuracy: 1.0000\n",
      "Epoch 10/100\n",
      "10000/10000 [==============================] - 1s 72us/sample - loss: 0.6697 - accuracy: 0.6000 - val_loss: 0.5053 - val_accuracy: 1.0000\n",
      "Epoch 11/100\n",
      "10000/10000 [==============================] - 1s 71us/sample - loss: 0.6686 - accuracy: 0.6000 - val_loss: 0.5106 - val_accuracy: 1.0000\n",
      "Epoch 12/100\n",
      "10000/10000 [==============================] - 1s 74us/sample - loss: 0.6673 - accuracy: 0.6000 - val_loss: 0.5111 - val_accuracy: 1.0000\n",
      "Epoch 13/100\n",
      "10000/10000 [==============================] - 1s 73us/sample - loss: 0.6655 - accuracy: 0.6000 - val_loss: 0.5044 - val_accuracy: 1.0000\n",
      "Epoch 14/100\n",
      "10000/10000 [==============================] - 1s 73us/sample - loss: 0.6630 - accuracy: 0.6000 - val_loss: 0.5098 - val_accuracy: 1.0000\n",
      "Epoch 15/100\n",
      "10000/10000 [==============================] - 1s 79us/sample - loss: 0.6599 - accuracy: 0.6000 - val_loss: 0.4971 - val_accuracy: 1.0000\n",
      "Epoch 16/100\n",
      "10000/10000 [==============================] - 1s 74us/sample - loss: 0.6551 - accuracy: 0.6000 - val_loss: 0.5063 - val_accuracy: 1.0000\n",
      "Epoch 17/100\n",
      "10000/10000 [==============================] - 1s 77us/sample - loss: 0.6479 - accuracy: 0.6000 - val_loss: 0.4797 - val_accuracy: 1.0000\n",
      "Epoch 18/100\n",
      "10000/10000 [==============================] - 1s 81us/sample - loss: 0.6400 - accuracy: 0.6000 - val_loss: 0.4702 - val_accuracy: 1.0000\n",
      "Epoch 19/100\n",
      "10000/10000 [==============================] - 1s 79us/sample - loss: 0.6301 - accuracy: 0.6008 - val_loss: 0.4801 - val_accuracy: 1.0000\n",
      "Epoch 20/100\n",
      "10000/10000 [==============================] - 1s 83us/sample - loss: 0.6186 - accuracy: 0.6050 - val_loss: 0.4617 - val_accuracy: 1.0000\n",
      "Epoch 21/100\n",
      "10000/10000 [==============================] - 1s 86us/sample - loss: 0.6048 - accuracy: 0.6194 - val_loss: 0.4397 - val_accuracy: 1.0000\n",
      "Epoch 22/100\n",
      "10000/10000 [==============================] - 1s 81us/sample - loss: 0.5911 - accuracy: 0.6522 - val_loss: 0.4388 - val_accuracy: 0.9980\n",
      "Epoch 23/100\n",
      "10000/10000 [==============================] - 1s 76us/sample - loss: 0.5756 - accuracy: 0.6951 - val_loss: 0.4096 - val_accuracy: 0.9975\n",
      "Epoch 24/100\n",
      "10000/10000 [==============================] - 1s 88us/sample - loss: 0.5595 - accuracy: 0.7296 - val_loss: 0.4560 - val_accuracy: 0.9718\n",
      "Epoch 25/100\n",
      "10000/10000 [==============================] - 1s 88us/sample - loss: 0.5431 - accuracy: 0.7723 - val_loss: 0.4046 - val_accuracy: 0.9839\n",
      "Epoch 26/100\n",
      "10000/10000 [==============================] - 1s 85us/sample - loss: 0.5276 - accuracy: 0.7862 - val_loss: 0.4118 - val_accuracy: 0.9602\n",
      "Epoch 27/100\n",
      "10000/10000 [==============================] - 1s 81us/sample - loss: 0.5109 - accuracy: 0.8112 - val_loss: 0.4282 - val_accuracy: 0.9331\n",
      "Epoch 28/100\n",
      "10000/10000 [==============================] - 1s 82us/sample - loss: 0.4963 - accuracy: 0.8229 - val_loss: 0.4111 - val_accuracy: 0.9311\n",
      "Epoch 29/100\n",
      "10000/10000 [==============================] - 1s 75us/sample - loss: 0.4812 - accuracy: 0.8383 - val_loss: 0.3997 - val_accuracy: 0.9240\n",
      "Epoch 30/100\n",
      "10000/10000 [==============================] - 1s 79us/sample - loss: 0.4669 - accuracy: 0.8411 - val_loss: 0.3784 - val_accuracy: 0.9290\n",
      "Epoch 31/100\n",
      "10000/10000 [==============================] - 1s 74us/sample - loss: 0.4532 - accuracy: 0.8502 - val_loss: 0.3700 - val_accuracy: 0.9235\n",
      "Epoch 32/100\n",
      "10000/10000 [==============================] - 1s 73us/sample - loss: 0.4411 - accuracy: 0.8523 - val_loss: 0.3863 - val_accuracy: 0.8983\n",
      "Epoch 33/100\n",
      "10000/10000 [==============================] - 1s 72us/sample - loss: 0.4285 - accuracy: 0.8553 - val_loss: 0.3543 - val_accuracy: 0.9165\n",
      "Epoch 34/100\n",
      "10000/10000 [==============================] - 1s 83us/sample - loss: 0.4172 - accuracy: 0.8583 - val_loss: 0.3400 - val_accuracy: 0.9175\n",
      "Epoch 35/100\n",
      "10000/10000 [==============================] - 1s 77us/sample - loss: 0.4063 - accuracy: 0.8609 - val_loss: 0.3659 - val_accuracy: 0.8848\n",
      "Epoch 36/100\n",
      "10000/10000 [==============================] - 1s 73us/sample - loss: 0.3958 - accuracy: 0.8659 - val_loss: 0.3423 - val_accuracy: 0.9024\n",
      "Epoch 37/100\n",
      "10000/10000 [==============================] - 1s 81us/sample - loss: 0.3864 - accuracy: 0.8653 - val_loss: 0.3228 - val_accuracy: 0.9099\n",
      "Epoch 38/100\n",
      "10000/10000 [==============================] - 1s 80us/sample - loss: 0.3775 - accuracy: 0.8677 - val_loss: 0.3430 - val_accuracy: 0.8903\n",
      "Epoch 39/100\n",
      "10000/10000 [==============================] - 1s 82us/sample - loss: 0.3688 - accuracy: 0.8677 - val_loss: 0.2908 - val_accuracy: 0.9215\n",
      "Epoch 40/100\n",
      "10000/10000 [==============================] - 1s 88us/sample - loss: 0.3615 - accuracy: 0.8708 - val_loss: 0.3532 - val_accuracy: 0.8616\n",
      "Epoch 41/100\n",
      "10000/10000 [==============================] - 1s 86us/sample - loss: 0.3540 - accuracy: 0.8738 - val_loss: 0.2895 - val_accuracy: 0.9114\n",
      "Epoch 42/100\n",
      "10000/10000 [==============================] - 1s 88us/sample - loss: 0.3481 - accuracy: 0.8742 - val_loss: 0.3281 - val_accuracy: 0.8807\n",
      "Epoch 43/100\n",
      "10000/10000 [==============================] - 1s 82us/sample - loss: 0.3408 - accuracy: 0.8760 - val_loss: 0.2886 - val_accuracy: 0.9089\n",
      "Epoch 44/100\n",
      "10000/10000 [==============================] - 1s 91us/sample - loss: 0.3359 - accuracy: 0.8747 - val_loss: 0.3056 - val_accuracy: 0.8943\n",
      "Epoch 45/100\n",
      "10000/10000 [==============================] - 1s 94us/sample - loss: 0.3298 - accuracy: 0.8803 - val_loss: 0.3169 - val_accuracy: 0.8797\n",
      "Epoch 46/100\n",
      "10000/10000 [==============================] - 1s 83us/sample - loss: 0.3251 - accuracy: 0.8811 - val_loss: 0.3117 - val_accuracy: 0.8853\n",
      "Epoch 47/100\n",
      "10000/10000 [==============================] - 1s 80us/sample - loss: 0.3197 - accuracy: 0.8829 - val_loss: 0.2974 - val_accuracy: 0.8923\n",
      "Epoch 48/100\n",
      "10000/10000 [==============================] - 1s 83us/sample - loss: 0.3152 - accuracy: 0.8851 - val_loss: 0.2946 - val_accuracy: 0.8913\n",
      "Epoch 49/100\n",
      "10000/10000 [==============================] - 1s 93us/sample - loss: 0.3108 - accuracy: 0.8854 - val_loss: 0.2618 - val_accuracy: 0.9139\n",
      "Epoch 50/100\n",
      "10000/10000 [==============================] - 1s 88us/sample - loss: 0.3074 - accuracy: 0.8866 - val_loss: 0.3206 - val_accuracy: 0.8707\n",
      "Epoch 51/100\n",
      "10000/10000 [==============================] - 1s 88us/sample - loss: 0.3042 - accuracy: 0.8862 - val_loss: 0.2448 - val_accuracy: 0.9205\n",
      "Epoch 52/100\n",
      "10000/10000 [==============================] - 1s 88us/sample - loss: 0.3002 - accuracy: 0.8891 - val_loss: 0.3535 - val_accuracy: 0.8455\n",
      "Epoch 53/100\n",
      "10000/10000 [==============================] - 1s 80us/sample - loss: 0.2977 - accuracy: 0.8898 - val_loss: 0.2607 - val_accuracy: 0.9069\n",
      "Epoch 54/100\n",
      "10000/10000 [==============================] - 1s 75us/sample - loss: 0.2929 - accuracy: 0.8912 - val_loss: 0.2937 - val_accuracy: 0.8878\n"
     ]
    },
    {
     "name": "stdout",
     "output_type": "stream",
     "text": [
      "Epoch 55/100\n",
      "10000/10000 [==============================] - 1s 78us/sample - loss: 0.2891 - accuracy: 0.8941 - val_loss: 0.2582 - val_accuracy: 0.9079\n",
      "Epoch 56/100\n",
      "10000/10000 [==============================] - 1s 94us/sample - loss: 0.2870 - accuracy: 0.8941 - val_loss: 0.3235 - val_accuracy: 0.8641\n",
      "Epoch 57/100\n",
      "10000/10000 [==============================] - 1s 84us/sample - loss: 0.2843 - accuracy: 0.8943 - val_loss: 0.2598 - val_accuracy: 0.9064\n",
      "Epoch 58/100\n",
      "10000/10000 [==============================] - 1s 76us/sample - loss: 0.2803 - accuracy: 0.8954 - val_loss: 0.3266 - val_accuracy: 0.8616\n",
      "Epoch 59/100\n",
      "10000/10000 [==============================] - 1s 80us/sample - loss: 0.2788 - accuracy: 0.8967 - val_loss: 0.2654 - val_accuracy: 0.9034\n",
      "Epoch 60/100\n",
      "10000/10000 [==============================] - 1s 90us/sample - loss: 0.2765 - accuracy: 0.8981 - val_loss: 0.3038 - val_accuracy: 0.8752\n",
      "Epoch 61/100\n",
      "10000/10000 [==============================] - 1s 87us/sample - loss: 0.2737 - accuracy: 0.8984 - val_loss: 0.2875 - val_accuracy: 0.8868\n",
      "Epoch 62/100\n",
      "10000/10000 [==============================] - 1s 93us/sample - loss: 0.2698 - accuracy: 0.9007 - val_loss: 0.3049 - val_accuracy: 0.8732\n",
      "Epoch 63/100\n",
      "10000/10000 [==============================] - 1s 88us/sample - loss: 0.2692 - accuracy: 0.8987 - val_loss: 0.2483 - val_accuracy: 0.9074\n",
      "Epoch 64/100\n",
      "10000/10000 [==============================] - 1s 90us/sample - loss: 0.2655 - accuracy: 0.9027 - val_loss: 0.2995 - val_accuracy: 0.8762\n",
      "Epoch 65/100\n",
      "10000/10000 [==============================] - 1s 100us/sample - loss: 0.2635 - accuracy: 0.9029 - val_loss: 0.3019 - val_accuracy: 0.8732\n",
      "Epoch 66/100\n",
      "10000/10000 [==============================] - 1s 81us/sample - loss: 0.2610 - accuracy: 0.9036 - val_loss: 0.2473 - val_accuracy: 0.9079\n",
      "Epoch 67/100\n",
      "10000/10000 [==============================] - 1s 73us/sample - loss: 0.2592 - accuracy: 0.9038 - val_loss: 0.2716 - val_accuracy: 0.8958\n",
      "Epoch 68/100\n",
      "10000/10000 [==============================] - 1s 91us/sample - loss: 0.2577 - accuracy: 0.9042 - val_loss: 0.2459 - val_accuracy: 0.9079\n",
      "Epoch 69/100\n",
      "10000/10000 [==============================] - 1s 95us/sample - loss: 0.2571 - accuracy: 0.9039 - val_loss: 0.3001 - val_accuracy: 0.8717\n",
      "Epoch 70/100\n",
      "10000/10000 [==============================] - 1s 92us/sample - loss: 0.2531 - accuracy: 0.9063 - val_loss: 0.2738 - val_accuracy: 0.8933\n",
      "Epoch 71/100\n",
      "10000/10000 [==============================] - 1s 102us/sample - loss: 0.2517 - accuracy: 0.9062 - val_loss: 0.2908 - val_accuracy: 0.8772\n",
      "Epoch 72/100\n",
      "10000/10000 [==============================] - 1s 100us/sample - loss: 0.2489 - accuracy: 0.9082 - val_loss: 0.2696 - val_accuracy: 0.8968\n",
      "Epoch 73/100\n",
      "10000/10000 [==============================] - 1s 119us/sample - loss: 0.2474 - accuracy: 0.9082 - val_loss: 0.2845 - val_accuracy: 0.8853\n",
      "Epoch 74/100\n",
      "10000/10000 [==============================] - 1s 94us/sample - loss: 0.2462 - accuracy: 0.9062 - val_loss: 0.2815 - val_accuracy: 0.8878\n",
      "Epoch 75/100\n",
      "10000/10000 [==============================] - 1s 109us/sample - loss: 0.2443 - accuracy: 0.9092 - val_loss: 0.2174 - val_accuracy: 0.9195\n",
      "Epoch 76/100\n",
      "10000/10000 [==============================] - 1s 102us/sample - loss: 0.2446 - accuracy: 0.9079 - val_loss: 0.2990 - val_accuracy: 0.8727\n",
      "Epoch 77/100\n",
      "10000/10000 [==============================] - 1s 88us/sample - loss: 0.2400 - accuracy: 0.9111 - val_loss: 0.2565 - val_accuracy: 0.9039\n",
      "Epoch 78/100\n",
      "10000/10000 [==============================] - 1s 85us/sample - loss: 0.2386 - accuracy: 0.9121 - val_loss: 0.2762 - val_accuracy: 0.8918\n",
      "Epoch 79/100\n",
      "10000/10000 [==============================] - 1s 85us/sample - loss: 0.2378 - accuracy: 0.9111 - val_loss: 0.2968 - val_accuracy: 0.8732\n",
      "Epoch 80/100\n",
      "10000/10000 [==============================] - 1s 75us/sample - loss: 0.2358 - accuracy: 0.9111 - val_loss: 0.2482 - val_accuracy: 0.9069\n",
      "Epoch 81/100\n",
      "10000/10000 [==============================] - 1s 75us/sample - loss: 0.2334 - accuracy: 0.9138 - val_loss: 0.2446 - val_accuracy: 0.9074\n",
      "Epoch 82/100\n",
      "10000/10000 [==============================] - 1s 88us/sample - loss: 0.2319 - accuracy: 0.9138 - val_loss: 0.2759 - val_accuracy: 0.8923\n",
      "Epoch 83/100\n",
      "10000/10000 [==============================] - 1s 88us/sample - loss: 0.2304 - accuracy: 0.9152 - val_loss: 0.2690 - val_accuracy: 0.8953\n",
      "Epoch 84/100\n",
      "10000/10000 [==============================] - 1s 83us/sample - loss: 0.2288 - accuracy: 0.9156 - val_loss: 0.3044 - val_accuracy: 0.8717\n",
      "Epoch 85/100\n",
      "10000/10000 [==============================] - 1s 74us/sample - loss: 0.2283 - accuracy: 0.9156 - val_loss: 0.2988 - val_accuracy: 0.8772\n",
      "Epoch 86/100\n",
      "10000/10000 [==============================] - 1s 79us/sample - loss: 0.2270 - accuracy: 0.9152 - val_loss: 0.2275 - val_accuracy: 0.9144\n",
      "Epoch 87/100\n",
      "10000/10000 [==============================] - 1s 75us/sample - loss: 0.2254 - accuracy: 0.9158 - val_loss: 0.2858 - val_accuracy: 0.8822\n",
      "Epoch 88/100\n",
      "10000/10000 [==============================] - 1s 77us/sample - loss: 0.2229 - accuracy: 0.9165 - val_loss: 0.2905 - val_accuracy: 0.8802\n",
      "Epoch 89/100\n",
      "10000/10000 [==============================] - 1s 73us/sample - loss: 0.2222 - accuracy: 0.9180 - val_loss: 0.2322 - val_accuracy: 0.9134\n",
      "Epoch 90/100\n",
      "10000/10000 [==============================] - 1s 71us/sample - loss: 0.2216 - accuracy: 0.9175 - val_loss: 0.2816 - val_accuracy: 0.8883\n",
      "Epoch 91/100\n",
      "10000/10000 [==============================] - 1s 74us/sample - loss: 0.2194 - accuracy: 0.9192 - val_loss: 0.2670 - val_accuracy: 0.8953\n",
      "Epoch 92/100\n",
      "10000/10000 [==============================] - 1s 70us/sample - loss: 0.2183 - accuracy: 0.9193 - val_loss: 0.2927 - val_accuracy: 0.8782\n",
      "Epoch 93/100\n",
      "10000/10000 [==============================] - 1s 79us/sample - loss: 0.2167 - accuracy: 0.9206 - val_loss: 0.2921 - val_accuracy: 0.8782\n",
      "Epoch 94/100\n",
      "10000/10000 [==============================] - 1s 78us/sample - loss: 0.2163 - accuracy: 0.9204 - val_loss: 0.2247 - val_accuracy: 0.9170\n",
      "Epoch 95/100\n",
      "10000/10000 [==============================] - 1s 70us/sample - loss: 0.2151 - accuracy: 0.9213 - val_loss: 0.3034 - val_accuracy: 0.8737\n",
      "Epoch 96/100\n",
      "10000/10000 [==============================] - 1s 75us/sample - loss: 0.2127 - accuracy: 0.9218 - val_loss: 0.2951 - val_accuracy: 0.8762\n",
      "Epoch 97/100\n",
      "10000/10000 [==============================] - 1s 71us/sample - loss: 0.2122 - accuracy: 0.9214 - val_loss: 0.2278 - val_accuracy: 0.9139\n",
      "Epoch 98/100\n",
      "10000/10000 [==============================] - 1s 72us/sample - loss: 0.2118 - accuracy: 0.9212 - val_loss: 0.3244 - val_accuracy: 0.8626\n",
      "Epoch 99/100\n",
      "10000/10000 [==============================] - 1s 72us/sample - loss: 0.2104 - accuracy: 0.9235 - val_loss: 0.2462 - val_accuracy: 0.9069\n",
      "Epoch 100/100\n",
      "10000/10000 [==============================] - 1s 76us/sample - loss: 0.2084 - accuracy: 0.9231 - val_loss: 0.2592 - val_accuracy: 0.9014\n"
     ]
    }
   ],
   "source": [
    "# 训练模型¶\n",
    "# 以 512 个样本的 mini-batch 大小迭代 40 个 epoch 来训练模型。这是指对 x_train 和 y_train 张量中所有样本的的 40 次迭代。\n",
    "# 在训练过程中，监测来自验证集的 10,000 个样本上的损失值（loss）和准确率（accuracy）：\n",
    "history = model.fit(partial_x_train,\n",
    "                    partial_y_train,\n",
    "                    epochs=100,\n",
    "                    batch_size=512,\n",
    "                    validation_data=(x_val, y_val),\n",
    "                    verbose=1)"
   ]
  },
  {
   "cell_type": "code",
   "execution_count": 29,
   "metadata": {},
   "outputs": [],
   "source": [
    "# ===========================word2vec======================\n",
    "# e = model.layers[0]\n",
    "# weights = e.get_weights()[0]\n",
    "# print(weights.shape) # shape: (vocab_size, embedding_dim)\n",
    "\n",
    "# print_i = 0\n",
    "\n",
    "# for word,num in words_dict.items():\n",
    "#     print_i += print_i\n",
    "#     if print_i > 10:\n",
    "#         break\n",
    "#     vec = weights[num+1] # skip 0, it's padding.\n",
    "#     print(word + ':' + ' '.join([str(x) for x in vec]))"
   ]
  },
  {
   "cell_type": "code",
   "execution_count": 30,
   "metadata": {
    "colab": {},
    "colab_type": "code",
    "id": "zOMKywn4zReN",
    "scrolled": true
   },
   "outputs": [
    {
     "name": "stdout",
     "output_type": "stream",
     "text": [
      "11987/1 - 1s - loss: 0.5255 - accuracy: 0.9193\n",
      "[0.21596541645986936, 0.9193293]\n"
     ]
    }
   ],
   "source": [
    "# 评估模型\n",
    "# 模型性能 将返回两个值。损失值（loss）（一个表示误差的数字，值越低越好）与准确率（accuracy）。\n",
    "results = model.evaluate(train_data,  train_label, verbose=2)\n",
    "print(results)"
   ]
  },
  {
   "cell_type": "code",
   "execution_count": 31,
   "metadata": {
    "colab": {},
    "colab_type": "code",
    "id": "VcvSXvhp-llb"
   },
   "outputs": [
    {
     "data": {
      "text/plain": [
       "dict_keys(['accuracy', 'loss', 'val_accuracy', 'val_loss'])"
      ]
     },
     "execution_count": 31,
     "metadata": {},
     "output_type": "execute_result"
    }
   ],
   "source": [
    "# model.fit() 返回一个 History 对象，该对象包含一个字典，其中包含训练阶段所发生的一切事件\n",
    "# 有四个条目：在训练和验证期间，每个条目对应一个监控指标。我们可以使用这些条目来绘制训练与验证过程的损失值（loss）和准确率（accuracy），以便进行比较。\n",
    "history_dict = history.history\n",
    "history_dict.keys()"
   ]
  },
  {
   "cell_type": "code",
   "execution_count": 32,
   "metadata": {
    "colab": {},
    "colab_type": "code",
    "id": "nGoYf2Js-lle"
   },
   "outputs": [
    {
     "data": {
      "text/plain": [
       "<Figure size 640x480 with 1 Axes>"
      ]
     },
     "metadata": {},
     "output_type": "display_data"
    }
   ],
   "source": [
    "# 创建一个准确率（accuracy）和损失值（loss）随时间变化的图表\n",
    "import matplotlib.pyplot as plt\n",
    "\n",
    "acc = history_dict['accuracy']\n",
    "val_acc = history_dict['val_accuracy']\n",
    "loss = history_dict['loss']\n",
    "val_loss = history_dict['val_loss']\n",
    "\n",
    "epochs = range(1, len(acc) + 1)\n",
    "\n",
    "# “bo”代表 \"蓝点\"\n",
    "plt.plot(epochs, loss, 'bo', label='Training loss')\n",
    "# b代表“蓝色实线”\n",
    "plt.plot(epochs, val_loss, 'b', label='Validation loss')\n",
    "plt.title('Training and validation loss')\n",
    "plt.xlabel('Epochs')\n",
    "plt.ylabel('Loss')\n",
    "plt.legend()\n",
    "\n",
    "plt.show()"
   ]
  },
  {
   "cell_type": "code",
   "execution_count": 33,
   "metadata": {
    "colab": {},
    "colab_type": "code",
    "id": "6hXx-xOv-llh"
   },
   "outputs": [
    {
     "data": {
      "image/png": "[encoded data removed]",
      "text/plain": [
       "<Figure size 432x288 with 1 Axes>"
      ]
     },
     "metadata": {
      "needs_background": "light"
     },
     "output_type": "display_data"
    }
   ],
   "source": [
    "# 在该图中，点代表训练损失值（loss）与准确率（accuracy），实线代表验证损失值（loss）与准确率（accuracy）。\n",
    "\n",
    "# 注意训练损失值随每一个 epoch 下降而训练准确率（accuracy）随每一个 epoch 上升。这在使用梯度下降优化时是可预期的——理应在每次迭代中最小化期望值。\n",
    "\n",
    "# 验证过程的损失值（loss）与准确率（accuracy）的情况却并非如此——它们似乎在 20 个 epoch 后达到峰值。这是过拟合的一个实例：模型在训练数据上的表现比在以前从未见过的数据上的表现要更好。在此之后，模型过度优化并学习特定于训练数据的表示，而不能够泛化到测试数据。\n",
    "\n",
    "# 对于这种特殊情况，我们可以通过在 20 个左右的 epoch 后停止训练来避免过拟合。稍后，您将看到如何通过回调自动执行此操作。\n",
    "plt.clf()   # 清除数字\n",
    "\n",
    "plt.plot(epochs, acc, 'bo', label='Training acc')\n",
    "plt.plot(epochs, val_acc, 'b', label='Validation acc')\n",
    "plt.title('Training and validation accuracy')\n",
    "plt.xlabel('Epochs')\n",
    "plt.ylabel('Accuracy')\n",
    "plt.legend()\n",
    "\n",
    "plt.show()"
   ]
  },
  {
   "cell_type": "code",
   "execution_count": null,
   "metadata": {},
   "outputs": [],
   "source": []
  },
  {
   "cell_type": "code",
   "execution_count": null,
   "metadata": {},
   "outputs": [],
   "source": []
  },
  {
   "cell_type": "code",
   "execution_count": null,
   "metadata": {},
   "outputs": [],
   "source": []
  }
 ],
 "metadata": {
  "colab": {
   "collapsed_sections": [],
   "name": "text_classification.ipynb",
   "private_outputs": true,
   "provenance": [],
   "toc_visible": true,
   "version": "0.3.2"
  },
  "kernelspec": {
   "display_name": "Python 3",
   "language": "python",
   "name": "python3"
  },
  "language_info": {
   "codemirror_mode": {
    "name": "ipython",
    "version": 3
   },
   "file_extension": ".py",
   "mimetype": "text/x-python",
   "name": "python",
   "nbconvert_exporter": "python",
   "pygments_lexer": "ipython3",
   "version": "3.5.2"
  }
 },
 "nbformat": 4,
 "nbformat_minor": 1
}
