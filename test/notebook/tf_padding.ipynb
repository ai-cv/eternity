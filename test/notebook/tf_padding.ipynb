{
 "cells": [
  {
   "cell_type": "code",
   "execution_count": 1,
   "metadata": {
    "colab": {},
    "colab_type": "code",
    "id": "2ew7HTbPpCJH"
   },
   "outputs": [
    {
     "name": "stdout",
     "output_type": "stream",
     "text": [
      "2.0.0\n"
     ]
    }
   ],
   "source": [
    "from __future__ import absolute_import, division, print_function, unicode_literals\n",
    "\n",
    "try:\n",
    "  # Colab only\n",
    "  %tensorflow_version 2.x\n",
    "except Exception:\n",
    "    pass\n",
    "import tensorflow as tf\n",
    "from tensorflow import keras\n",
    "\n",
    "import numpy as np\n",
    "\n",
    "print(tf.__version__)"
   ]
  },
  {
   "cell_type": "code",
   "execution_count": null,
   "metadata": {},
   "outputs": [],
   "source": [
    "pos_path = '../data/pos/'\n",
    "neg_path = '../data/neg/'\n",
    "pos_list = os.listdir(pos_path)\n",
    "neg_list = os.listdir(neg_path)"
   ]
  },
  {
   "cell_type": "code",
   "execution_count": null,
   "metadata": {},
   "outputs": [],
   "source": [
    "train_data = []\n",
    "train_label = []\n",
    "for doc in pos_list:\n",
    "    with open(pos_path + doc, 'r', encoding='utf-8') as f:\n",
    "        lines = f.readlines()\n",
    "        for line in lines:\n",
    "            train_data.append(line)\n",
    "            train_label.append(1)\n",
    "            \n",
    "for doc in neg_list:\n",
    "    with open(neg_path + doc, 'r', encoding='utf-8') as f:\n",
    "        lines = f.readlines()\n",
    "        for line in lines:\n",
    "            train_data.append(line)\n",
    "            train_label.append(0)"
   ]
  },
  {
   "cell_type": "code",
   "execution_count": 2,
   "metadata": {
    "colab": {},
    "colab_type": "code",
    "id": "zXXx5Oc3pOmN",
    "scrolled": true
   },
   "outputs": [],
   "source": [
    "# imdb = keras.datasets.imdb\n",
    "# (train_data, train_labels), (test_data, test_labels) = imdb.load_data(num_words=100)\n",
    "train_data = []\n",
    "train_labels = []\n",
    "with open(\"../data/demo.txt\", \"r\", encoding=\"utf-8\") as lines:\n",
    "    for line in lines.readlines():\n",
    "        words = line.split(\",\")\n",
    "        train_labels.append(np.int64(int(words[0])))\n",
    "#         train_data.append(np.array(words[1].split(\" \")))\n",
    "        train_data.append(np.array(keras.preprocessing.text.one_hot(words[1], 100)))\n",
    "train_data = np.array(train_data)\n",
    "train_labels = np.array(train_labels)"
   ]
  },
  {
   "cell_type": "code",
   "execution_count": 3,
   "metadata": {},
   "outputs": [
    {
     "data": {
      "text/plain": [
       "(numpy.ndarray, numpy.ndarray, numpy.int64)"
      ]
     },
     "execution_count": 3,
     "metadata": {},
     "output_type": "execute_result"
    }
   ],
   "source": [
    "type(train_data), type(train_data[0]), type(train_data[0][0])"
   ]
  },
  {
   "cell_type": "code",
   "execution_count": 4,
   "metadata": {},
   "outputs": [
    {
     "data": {
      "text/plain": [
       "(numpy.ndarray, numpy.int64)"
      ]
     },
     "execution_count": 4,
     "metadata": {},
     "output_type": "execute_result"
    }
   ],
   "source": [
    " type(train_labels),type(train_labels[0])"
   ]
  },
  {
   "cell_type": "code",
   "execution_count": 5,
   "metadata": {
    "colab": {},
    "colab_type": "code",
    "id": "y8qCnve_-lkO",
    "scrolled": true
   },
   "outputs": [
    {
     "name": "stdout",
     "output_type": "stream",
     "text": [
      "Training entries: 50, labels: 50\n"
     ]
    }
   ],
   "source": [
    "print(\"Training entries: {}, labels: {}\".format(len(train_data), len(train_labels)))"
   ]
  },
  {
   "cell_type": "code",
   "execution_count": 6,
   "metadata": {
    "scrolled": false
   },
   "outputs": [
    {
     "name": "stdout",
     "output_type": "stream",
     "text": [
      "[26  7 91 89  7 91 77 78  1 21  8 96 95 17  8 91 71 98 35 71 96 20 41  4\n",
      " 64  7 40 91 33 18 90 66 70 37 27 99 25 61 81 82 67 96 82 62 47 49 25 59\n",
      "  3 18 47 13 86 29  4  1 77 78 11  7 96 37 22 25  9 34 79  7 91 70 61 37\n",
      " 25]\n"
     ]
    }
   ],
   "source": [
    "print(train_data[0])"
   ]
  },
  {
   "cell_type": "code",
   "execution_count": 7,
   "metadata": {},
   "outputs": [
    {
     "name": "stdout",
     "output_type": "stream",
     "text": [
      "0\n"
     ]
    }
   ],
   "source": [
    "print(train_labels[0])"
   ]
  },
  {
   "cell_type": "code",
   "execution_count": 8,
   "metadata": {
    "colab": {},
    "colab_type": "code",
    "id": "USSSBnkE-lky"
   },
   "outputs": [
    {
     "data": {
      "text/plain": [
       "(73, 11)"
      ]
     },
     "execution_count": 8,
     "metadata": {},
     "output_type": "execute_result"
    }
   ],
   "source": [
    "len(train_data[0]), len(train_data[1])"
   ]
  },
  {
   "cell_type": "markdown",
   "metadata": {
    "colab_type": "text",
    "id": "lFP_XKVRp4_S"
   },
   "source": [
    "## 准备数据\n",
    "\n",
    "影评——即整数数组必须在输入神经网络之前转换为张量。这种转换可以通过以下两种方式来完成：\n",
    "\n",
    "* 将数组转换为表示单词出现与否的由 0 和 1 组成的向量，类似于 one-hot 编码。例如，序列[3, 5]将转换为一个 10,000 维的向量，该向量除了索引为 3 和 5 的位置是 1 以外，其他都为 0。然后，将其作为网络的首层——一个可以处理浮点型向量数据的稠密层。不过，这种方法需要大量的内存，需要一个大小为 `num_words * num_reviews` 的矩阵。\n",
    "\n",
    "* 或者，我们可以填充数组来保证输入数据具有相同的长度，然后创建一个大小为 `max_length * num_reviews` 的整型张量。我们可以使用能够处理此形状数据的嵌入层作为网络中的第一层。\n",
    "\n",
    "在本教程中，我们将使用第二种方法。\n",
    "\n",
    "由于电影评论长度必须相同，我们将使用 [pad_sequences](https://tensorflow.google.cn/api_docs/python/tf/keras/preprocessing/sequence/pad_sequences) 函数来使长度标准化："
   ]
  },
  {
   "cell_type": "code",
   "execution_count": 9,
   "metadata": {},
   "outputs": [],
   "source": [
    "train_data = keras.preprocessing.sequence.pad_sequences(train_data,\n",
    "                                                        dtype='str',\n",
    "                                                        padding='post',\n",
    "                                                        maxlen=128)"
   ]
  },
  {
   "cell_type": "code",
   "execution_count": 10,
   "metadata": {
    "scrolled": false
   },
   "outputs": [
    {
     "name": "stdout",
     "output_type": "stream",
     "text": [
      "['9' '8' '1' '7' '9' '8' '3' '7' '7' '1' '2' '0' '0' '0' '0' '0' '0' '0'\n",
      " '0' '0' '0' '0' '0' '0' '0' '0' '0' '0' '0' '0' '0' '0' '0' '0' '0' '0'\n",
      " '0' '0' '0' '0' '0' '0' '0' '0' '0' '0' '0' '0' '0' '0' '0' '0' '0' '0'\n",
      " '0' '0' '0' '0' '0' '0' '0' '0' '0' '0' '0' '0' '0' '0' '0' '0' '0' '0'\n",
      " '0' '0' '0' '0' '0' '0' '0' '0' '0' '0' '0' '0' '0' '0' '0' '0' '0' '0'\n",
      " '0' '0' '0' '0' '0' '0' '0' '0' '0' '0' '0' '0' '0' '0' '0' '0' '0' '0'\n",
      " '0' '0' '0' '0' '0' '0' '0' '0' '0' '0' '0' '0' '0' '0' '0' '0' '0' '0'\n",
      " '0' '0']\n"
     ]
    }
   ],
   "source": [
    "print(train_data[1])"
   ]
  },
  {
   "cell_type": "markdown",
   "metadata": {
    "colab_type": "text",
    "id": "LLC02j2g-llC"
   },
   "source": [
    "## 构建模型\n",
    "\n",
    "神经网络由堆叠的层来构建，这需要从两个主要方面来进行体系结构决策：\n",
    "\n",
    "* 模型里有多少层？\n",
    "* 每个层里有多少*隐层单元（hidden units）*？\n",
    "\n",
    "在此样本中，输入数据包含一个单词索引的数组。要预测的标签为 0 或 1。让我们来为该问题构建一个模型："
   ]
  },
  {
   "cell_type": "code",
   "execution_count": 11,
   "metadata": {
    "colab": {},
    "colab_type": "code",
    "id": "xpKOoWgu-llD",
    "scrolled": false
   },
   "outputs": [
    {
     "name": "stdout",
     "output_type": "stream",
     "text": [
      "Model: \"sequential\"\n",
      "_________________________________________________________________\n",
      "Layer (type)                 Output Shape              Param #   \n",
      "=================================================================\n",
      "embedding (Embedding)        (None, None, 16)          1600      \n",
      "_________________________________________________________________\n",
      "global_average_pooling1d (Gl (None, 16)                0         \n",
      "_________________________________________________________________\n",
      "dense (Dense)                (None, 16)                272       \n",
      "_________________________________________________________________\n",
      "dense_1 (Dense)              (None, 1)                 17        \n",
      "=================================================================\n",
      "Total params: 1,889\n",
      "Trainable params: 1,889\n",
      "Non-trainable params: 0\n",
      "_________________________________________________________________\n"
     ]
    }
   ],
   "source": [
    "# 输入形状是用于电影评论的词汇数目（10,000 词）\n",
    "vocab_size = 100\n",
    "\n",
    "model = keras.Sequential()\n",
    "model.add(keras.layers.Embedding(vocab_size, 16))\n",
    "model.add(keras.layers.GlobalAveragePooling1D())\n",
    "model.add(keras.layers.Dense(16, activation='relu'))\n",
    "model.add(keras.layers.Dense(1, activation='sigmoid'))\n",
    "\n",
    "model.summary()"
   ]
  },
  {
   "cell_type": "markdown",
   "metadata": {
    "colab_type": "text",
    "id": "6PbKQ6mucuKL"
   },
   "source": [
    "层按顺序堆叠以构建分类器：\n",
    "\n",
    "1. 第一层是`嵌入（Embedding）`层。该层采用整数编码的词汇表，并查找每个词索引的嵌入向量（embedding vector）。这些向量是通过模型训练学习到的。向量向输出数组增加了一个维度。得到的维度为：`(batch, sequence, embedding)`。\n",
    "2. 接下来，`GlobalAveragePooling1D` 将通过对序列维度求平均值来为每个样本返回一个定长输出向量。这允许模型以尽可能最简单的方式处理变长输入。\n",
    "3. 该定长输出向量通过一个有 16 个隐层单元的全连接（`Dense`）层传输。\n",
    "4. 最后一层与单个输出结点密集连接。使用 `Sigmoid` 激活函数，其函数值为介于 0 与 1 之间的浮点数，表示概率或置信度。"
   ]
  },
  {
   "cell_type": "markdown",
   "metadata": {
    "colab_type": "text",
    "id": "0XMwnDOp-llH"
   },
   "source": [
    "### 隐层单元\n",
    "\n",
    "上述模型在输入输出之间有两个中间层或“隐藏层”。输出（单元，结点或神经元）的数量即为层表示空间的维度。换句话说，是学习内部表示时网络所允许的自由度。\n",
    "\n",
    "如果模型具有更多的隐层单元（更高维度的表示空间）和/或更多层，则可以学习到更复杂的表示。但是，这会使网络的计算成本更高，并且可能导致学习到不需要的模式——一些能够在训练数据上而不是测试数据上改善性能的模式。这被称为*过拟合（overfitting）*，我们稍后会对此进行探究。"
   ]
  },
  {
   "cell_type": "markdown",
   "metadata": {
    "colab_type": "text",
    "id": "L4EqVWg4-llM"
   },
   "source": [
    "### 损失函数与优化器\n",
    "\n",
    "一个模型需要损失函数和优化器来进行训练。由于这是一个二分类问题且模型输出概率值（一个使用 sigmoid 激活函数的单一单元层），我们将使用 `binary_crossentropy` 损失函数。\n",
    "\n",
    "这不是损失函数的唯一选择，例如，您可以选择 `mean_squared_error` 。但是，一般来说 `binary_crossentropy` 更适合处理概率——它能够度量概率分布之间的“距离”，或者在我们的示例中，指的是度量 ground-truth 分布与预测值之间的“距离”。\n",
    "\n",
    "稍后，当我们研究回归问题（例如，预测房价）时，我们将介绍如何使用另一种叫做均方误差的损失函数。\n",
    "\n",
    "现在，配置模型来使用优化器和损失函数："
   ]
  },
  {
   "cell_type": "code",
   "execution_count": 12,
   "metadata": {
    "colab": {},
    "colab_type": "code",
    "id": "Mr0GP-cQ-llN"
   },
   "outputs": [],
   "source": [
    "model.compile(optimizer='adam',\n",
    "              loss='binary_crossentropy',\n",
    "              metrics=['accuracy'])"
   ]
  },
  {
   "cell_type": "markdown",
   "metadata": {
    "colab_type": "text",
    "id": "hCWYwkug-llQ"
   },
   "source": [
    "## 创建一个验证集\n",
    "\n",
    "在训练时，我们想要检查模型在未见过的数据上的准确率（accuracy）。通过从原始训练数据中分离 10,000 个样本来创建一个*验证集*。（为什么现在不使用测试集？我们的目标是只使用训练数据来开发和调整模型，然后只使用一次测试数据来评估准确率（accuracy））。"
   ]
  },
  {
   "cell_type": "code",
   "execution_count": 13,
   "metadata": {
    "scrolled": true
   },
   "outputs": [],
   "source": [
    "train_data = train_data.astype(np.int64)"
   ]
  },
  {
   "cell_type": "code",
   "execution_count": 14,
   "metadata": {
    "colab": {},
    "colab_type": "code",
    "id": "-NpcXY9--llS"
   },
   "outputs": [],
   "source": [
    "train_size = 20\n",
    "x_val = train_data[:train_size]\n",
    "partial_x_train = train_data[train_size:]\n",
    "\n",
    "y_val = train_labels[:train_size]\n",
    "partial_y_train = train_labels[train_size:]"
   ]
  },
  {
   "cell_type": "markdown",
   "metadata": {
    "colab_type": "text",
    "id": "35jv_fzP-llU"
   },
   "source": [
    "## 训练模型\n",
    "\n",
    "以 512 个样本的 mini-batch 大小迭代 40 个 epoch 来训练模型。这是指对 `x_train` 和 `y_train` 张量中所有样本的的 40 次迭代。在训练过程中，监测来自验证集的 10,000 个样本上的损失值（loss）和准确率（accuracy）："
   ]
  },
  {
   "cell_type": "code",
   "execution_count": 15,
   "metadata": {},
   "outputs": [
    {
     "data": {
      "text/plain": [
       "(numpy.ndarray, numpy.ndarray, numpy.int64)"
      ]
     },
     "execution_count": 15,
     "metadata": {},
     "output_type": "execute_result"
    }
   ],
   "source": [
    "type(partial_x_train), type(partial_x_train[0]), type(partial_x_train[0][0])"
   ]
  },
  {
   "cell_type": "code",
   "execution_count": 16,
   "metadata": {},
   "outputs": [
    {
     "data": {
      "text/plain": [
       "(numpy.ndarray, numpy.int64)"
      ]
     },
     "execution_count": 16,
     "metadata": {},
     "output_type": "execute_result"
    }
   ],
   "source": [
    "type(partial_y_train),type(partial_y_train[0])"
   ]
  },
  {
   "cell_type": "code",
   "execution_count": 17,
   "metadata": {},
   "outputs": [
    {
     "data": {
      "text/plain": [
       "(numpy.ndarray, numpy.ndarray, numpy.int64)"
      ]
     },
     "execution_count": 17,
     "metadata": {},
     "output_type": "execute_result"
    }
   ],
   "source": [
    "type(x_val), type(x_val[0]), type(x_val[0][0])"
   ]
  },
  {
   "cell_type": "code",
   "execution_count": 18,
   "metadata": {},
   "outputs": [
    {
     "data": {
      "text/plain": [
       "(numpy.ndarray, numpy.int64)"
      ]
     },
     "execution_count": 18,
     "metadata": {},
     "output_type": "execute_result"
    }
   ],
   "source": [
    "type(y_val),type(y_val[0])"
   ]
  },
  {
   "cell_type": "code",
   "execution_count": null,
   "metadata": {},
   "outputs": [],
   "source": []
  },
  {
   "cell_type": "code",
   "execution_count": 19,
   "metadata": {
    "colab": {},
    "colab_type": "code",
    "id": "D6G9oqEV-Se-",
    "scrolled": true
   },
   "outputs": [
    {
     "name": "stdout",
     "output_type": "stream",
     "text": [
      "Train on 30 samples, validate on 20 samples\n",
      "Epoch 1/40\n",
      "30/30 [==============================] - 1s 26ms/sample - loss: 0.6919 - accuracy: 0.6000 - val_loss: 0.6952 - val_accuracy: 0.4000\n",
      "Epoch 2/40\n",
      "30/30 [==============================] - 0s 408us/sample - loss: 0.6913 - accuracy: 0.6000 - val_loss: 0.6958 - val_accuracy: 0.4000\n",
      "Epoch 3/40\n",
      "30/30 [==============================] - 0s 500us/sample - loss: 0.6907 - accuracy: 0.6000 - val_loss: 0.6965 - val_accuracy: 0.4000\n",
      "Epoch 4/40\n",
      "30/30 [==============================] - 0s 556us/sample - loss: 0.6902 - accuracy: 0.6000 - val_loss: 0.6971 - val_accuracy: 0.4000\n",
      "Epoch 5/40\n",
      "30/30 [==============================] - 0s 581us/sample - loss: 0.6896 - accuracy: 0.6000 - val_loss: 0.6978 - val_accuracy: 0.4000\n",
      "Epoch 6/40\n",
      "30/30 [==============================] - 0s 532us/sample - loss: 0.6891 - accuracy: 0.6000 - val_loss: 0.6984 - val_accuracy: 0.4000\n",
      "Epoch 7/40\n",
      "30/30 [==============================] - 0s 510us/sample - loss: 0.6887 - accuracy: 0.6000 - val_loss: 0.6990 - val_accuracy: 0.4000\n",
      "Epoch 8/40\n",
      "30/30 [==============================] - 0s 590us/sample - loss: 0.6882 - accuracy: 0.6000 - val_loss: 0.6996 - val_accuracy: 0.4000\n",
      "Epoch 9/40\n",
      "30/30 [==============================] - 0s 586us/sample - loss: 0.6878 - accuracy: 0.6000 - val_loss: 0.7002 - val_accuracy: 0.4000\n",
      "Epoch 10/40\n",
      "30/30 [==============================] - 0s 486us/sample - loss: 0.6873 - accuracy: 0.6000 - val_loss: 0.7008 - val_accuracy: 0.4000\n",
      "Epoch 11/40\n",
      "30/30 [==============================] - 0s 617us/sample - loss: 0.6869 - accuracy: 0.6000 - val_loss: 0.7015 - val_accuracy: 0.4000\n",
      "Epoch 12/40\n",
      "30/30 [==============================] - 0s 551us/sample - loss: 0.6864 - accuracy: 0.6000 - val_loss: 0.7021 - val_accuracy: 0.4000\n",
      "Epoch 13/40\n",
      "30/30 [==============================] - 0s 554us/sample - loss: 0.6860 - accuracy: 0.6000 - val_loss: 0.7028 - val_accuracy: 0.4000\n",
      "Epoch 14/40\n",
      "30/30 [==============================] - 0s 716us/sample - loss: 0.6855 - accuracy: 0.6000 - val_loss: 0.7035 - val_accuracy: 0.4000\n",
      "Epoch 15/40\n",
      "30/30 [==============================] - 0s 575us/sample - loss: 0.6851 - accuracy: 0.6000 - val_loss: 0.7043 - val_accuracy: 0.4000\n",
      "Epoch 16/40\n",
      "30/30 [==============================] - 0s 547us/sample - loss: 0.6846 - accuracy: 0.6000 - val_loss: 0.7050 - val_accuracy: 0.4000\n",
      "Epoch 17/40\n",
      "30/30 [==============================] - 0s 548us/sample - loss: 0.6842 - accuracy: 0.6000 - val_loss: 0.7058 - val_accuracy: 0.4000\n",
      "Epoch 18/40\n",
      "30/30 [==============================] - 0s 561us/sample - loss: 0.6837 - accuracy: 0.6000 - val_loss: 0.7065 - val_accuracy: 0.4000\n",
      "Epoch 19/40\n",
      "30/30 [==============================] - 0s 495us/sample - loss: 0.6833 - accuracy: 0.6000 - val_loss: 0.7073 - val_accuracy: 0.4000\n",
      "Epoch 20/40\n",
      "30/30 [==============================] - 0s 528us/sample - loss: 0.6829 - accuracy: 0.6000 - val_loss: 0.7081 - val_accuracy: 0.4000\n",
      "Epoch 21/40\n",
      "30/30 [==============================] - 0s 511us/sample - loss: 0.6825 - accuracy: 0.6000 - val_loss: 0.7089 - val_accuracy: 0.4000\n",
      "Epoch 22/40\n",
      "30/30 [==============================] - 0s 513us/sample - loss: 0.6821 - accuracy: 0.6000 - val_loss: 0.7097 - val_accuracy: 0.4000\n",
      "Epoch 23/40\n",
      "30/30 [==============================] - 0s 615us/sample - loss: 0.6817 - accuracy: 0.6000 - val_loss: 0.7106 - val_accuracy: 0.4000\n",
      "Epoch 24/40\n",
      "30/30 [==============================] - 0s 527us/sample - loss: 0.6813 - accuracy: 0.6000 - val_loss: 0.7114 - val_accuracy: 0.4000\n",
      "Epoch 25/40\n",
      "30/30 [==============================] - 0s 610us/sample - loss: 0.6809 - accuracy: 0.6000 - val_loss: 0.7123 - val_accuracy: 0.4000\n",
      "Epoch 26/40\n",
      "30/30 [==============================] - 0s 538us/sample - loss: 0.6805 - accuracy: 0.6000 - val_loss: 0.7131 - val_accuracy: 0.4000\n",
      "Epoch 27/40\n",
      "30/30 [==============================] - 0s 520us/sample - loss: 0.6802 - accuracy: 0.6000 - val_loss: 0.7140 - val_accuracy: 0.4000\n",
      "Epoch 28/40\n",
      "30/30 [==============================] - 0s 531us/sample - loss: 0.6798 - accuracy: 0.6000 - val_loss: 0.7149 - val_accuracy: 0.4000\n",
      "Epoch 29/40\n",
      "30/30 [==============================] - 0s 551us/sample - loss: 0.6794 - accuracy: 0.6000 - val_loss: 0.7158 - val_accuracy: 0.4000\n",
      "Epoch 30/40\n",
      "30/30 [==============================] - 0s 540us/sample - loss: 0.6791 - accuracy: 0.6000 - val_loss: 0.7167 - val_accuracy: 0.4000\n",
      "Epoch 31/40\n",
      "30/30 [==============================] - 0s 548us/sample - loss: 0.6788 - accuracy: 0.6000 - val_loss: 0.7177 - val_accuracy: 0.4000\n",
      "Epoch 32/40\n",
      "30/30 [==============================] - 0s 530us/sample - loss: 0.6784 - accuracy: 0.6000 - val_loss: 0.7186 - val_accuracy: 0.4000\n",
      "Epoch 33/40\n",
      "30/30 [==============================] - 0s 527us/sample - loss: 0.6781 - accuracy: 0.6000 - val_loss: 0.7195 - val_accuracy: 0.4000\n",
      "Epoch 34/40\n",
      "30/30 [==============================] - 0s 523us/sample - loss: 0.6778 - accuracy: 0.6000 - val_loss: 0.7205 - val_accuracy: 0.4000\n",
      "Epoch 35/40\n",
      "30/30 [==============================] - 0s 510us/sample - loss: 0.6775 - accuracy: 0.6000 - val_loss: 0.7215 - val_accuracy: 0.4000\n",
      "Epoch 36/40\n",
      "30/30 [==============================] - 0s 524us/sample - loss: 0.6772 - accuracy: 0.6000 - val_loss: 0.7225 - val_accuracy: 0.4000\n",
      "Epoch 37/40\n",
      "30/30 [==============================] - 0s 513us/sample - loss: 0.6769 - accuracy: 0.6000 - val_loss: 0.7235 - val_accuracy: 0.4000\n",
      "Epoch 38/40\n",
      "30/30 [==============================] - 0s 522us/sample - loss: 0.6767 - accuracy: 0.6000 - val_loss: 0.7245 - val_accuracy: 0.4000\n",
      "Epoch 39/40\n",
      "30/30 [==============================] - 0s 521us/sample - loss: 0.6764 - accuracy: 0.6000 - val_loss: 0.7255 - val_accuracy: 0.4000\n",
      "Epoch 40/40\n",
      "30/30 [==============================] - 0s 525us/sample - loss: 0.6762 - accuracy: 0.6000 - val_loss: 0.7266 - val_accuracy: 0.4000\n"
     ]
    }
   ],
   "source": [
    "history = model.fit(partial_x_train,\n",
    "                    partial_y_train,\n",
    "                    epochs=40,\n",
    "                    batch_size=512,\n",
    "                    validation_data=(x_val, y_val),\n",
    "                    verbose=1)"
   ]
  },
  {
   "cell_type": "markdown",
   "metadata": {
    "colab_type": "text",
    "id": "9EEGuDVuzb5r"
   },
   "source": [
    "## 评估模型\n",
    "\n",
    "我们来看一下模型的性能如何。将返回两个值。损失值（loss）（一个表示误差的数字，值越低越好）与准确率（accuracy）。"
   ]
  },
  {
   "cell_type": "code",
   "execution_count": 20,
   "metadata": {
    "colab": {},
    "colab_type": "code",
    "id": "zOMKywn4zReN",
    "scrolled": true
   },
   "outputs": [
    {
     "name": "stdout",
     "output_type": "stream",
     "text": [
      "50/1 - 0s - loss: 0.6706 - accuracy: 0.5200\n",
      "[0.6961713790893554, 0.52]\n"
     ]
    }
   ],
   "source": [
    "# results = model.evaluate(test_data,  test_labels, verbose=2)\n",
    "# print(results)\n",
    "results = model.evaluate(train_data,  train_labels, verbose=2)\n",
    "print(results)"
   ]
  },
  {
   "cell_type": "markdown",
   "metadata": {
    "colab_type": "text",
    "id": "z1iEXVTR0Z2t"
   },
   "source": [
    "这种十分朴素的方法得到了约 87% 的准确率（accuracy）。若采用更好的方法，模型的准确率应当接近 95%。"
   ]
  },
  {
   "cell_type": "markdown",
   "metadata": {
    "colab_type": "text",
    "id": "5KggXVeL-llZ"
   },
   "source": [
    "## 创建一个准确率（accuracy）和损失值（loss）随时间变化的图表\n",
    "\n",
    "`model.fit()` 返回一个 `History` 对象，该对象包含一个字典，其中包含训练阶段所发生的一切事件："
   ]
  },
  {
   "cell_type": "code",
   "execution_count": 21,
   "metadata": {
    "colab": {},
    "colab_type": "code",
    "id": "VcvSXvhp-llb"
   },
   "outputs": [
    {
     "data": {
      "text/plain": [
       "dict_keys(['val_loss', 'loss', 'accuracy', 'val_accuracy'])"
      ]
     },
     "execution_count": 21,
     "metadata": {},
     "output_type": "execute_result"
    }
   ],
   "source": [
    "history_dict = history.history\n",
    "history_dict.keys()"
   ]
  },
  {
   "cell_type": "markdown",
   "metadata": {
    "colab_type": "text",
    "id": "nRKsqL40-lle"
   },
   "source": [
    "有四个条目：在训练和验证期间，每个条目对应一个监控指标。我们可以使用这些条目来绘制训练与验证过程的损失值（loss）和准确率（accuracy），以便进行比较。"
   ]
  },
  {
   "cell_type": "code",
   "execution_count": 22,
   "metadata": {
    "colab": {},
    "colab_type": "code",
    "id": "nGoYf2Js-lle"
   },
   "outputs": [
    {
     "data": {
      "text/plain": [
       "<Figure size 640x480 with 1 Axes>"
      ]
     },
     "metadata": {},
     "output_type": "display_data"
    }
   ],
   "source": [
    "import matplotlib.pyplot as plt\n",
    "\n",
    "acc = history_dict['accuracy']\n",
    "val_acc = history_dict['val_accuracy']\n",
    "loss = history_dict['loss']\n",
    "val_loss = history_dict['val_loss']\n",
    "\n",
    "epochs = range(1, len(acc) + 1)\n",
    "\n",
    "# “bo”代表 \"蓝点\"\n",
    "plt.plot(epochs, loss, 'bo', label='Training loss')\n",
    "# b代表“蓝色实线”\n",
    "plt.plot(epochs, val_loss, 'b', label='Validation loss')\n",
    "plt.title('Training and validation loss')\n",
    "plt.xlabel('Epochs')\n",
    "plt.ylabel('Loss')\n",
    "plt.legend()\n",
    "\n",
    "plt.show()"
   ]
  },
  {
   "cell_type": "code",
   "execution_count": 23,
   "metadata": {
    "colab": {},
    "colab_type": "code",
    "id": "6hXx-xOv-llh"
   },
   "outputs": [
    {
     "data": {
      "image/png": "[encoded data removed]",
      "text/plain": [
       "<Figure size 432x288 with 1 Axes>"
      ]
     },
     "metadata": {
      "needs_background": "light"
     },
     "output_type": "display_data"
    }
   ],
   "source": [
    "plt.clf()   # 清除数字\n",
    "\n",
    "plt.plot(epochs, acc, 'bo', label='Training acc')\n",
    "plt.plot(epochs, val_acc, 'b', label='Validation acc')\n",
    "plt.title('Training and validation accuracy')\n",
    "plt.xlabel('Epochs')\n",
    "plt.ylabel('Accuracy')\n",
    "plt.legend()\n",
    "\n",
    "plt.show()"
   ]
  },
  {
   "cell_type": "markdown",
   "metadata": {
    "colab_type": "text",
    "id": "oFEmZ5zq-llk"
   },
   "source": [
    "\n",
    "在该图中，点代表训练损失值（loss）与准确率（accuracy），实线代表验证损失值（loss）与准确率（accuracy）。\n",
    "\n",
    "注意训练损失值随每一个 epoch *下降*而训练准确率（accuracy）随每一个 epoch *上升*。这在使用梯度下降优化时是可预期的——理应在每次迭代中最小化期望值。\n",
    "\n",
    "验证过程的损失值（loss）与准确率（accuracy）的情况却并非如此——它们似乎在 20 个 epoch 后达到峰值。这是过拟合的一个实例：模型在训练数据上的表现比在以前从未见过的数据上的表现要更好。在此之后，模型过度优化并学习*特定*于训练数据的表示，而不能够*泛化*到测试数据。\n",
    "\n",
    "对于这种特殊情况，我们可以通过在 20 个左右的 epoch 后停止训练来避免过拟合。稍后，您将看到如何通过回调自动执行此操作。"
   ]
  },
  {
   "cell_type": "code",
   "execution_count": null,
   "metadata": {},
   "outputs": [],
   "source": []
  }
 ],
 "metadata": {
  "colab": {
   "collapsed_sections": [],
   "name": "text_classification.ipynb",
   "private_outputs": true,
   "provenance": [],
   "toc_visible": true,
   "version": "0.3.2"
  },
  "kernelspec": {
   "display_name": "Python 3",
   "language": "python",
   "name": "python3"
  },
  "language_info": {
   "codemirror_mode": {
    "name": "ipython",
    "version": 3
   },
   "file_extension": ".py",
   "mimetype": "text/x-python",
   "name": "python",
   "nbconvert_exporter": "python",
   "pygments_lexer": "ipython3",
   "version": "3.5.2"
  }
 },
 "nbformat": 4,
 "nbformat_minor": 1
}
