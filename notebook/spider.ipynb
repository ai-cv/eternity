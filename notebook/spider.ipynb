{
 "cells": [
  {
   "cell_type": "code",
   "execution_count": 35,
   "metadata": {},
   "outputs": [],
   "source": [
    "from lxml import etree\n",
    "import urllib.request as ur\n",
    "from lxml.html import fromstring, tostring"
   ]
  },
  {
   "cell_type": "code",
   "execution_count": 10,
   "metadata": {},
   "outputs": [],
   "source": [
    "url = 'http://guba.eastmoney.com/list,600030,5,f_1.html'"
   ]
  },
  {
   "cell_type": "code",
   "execution_count": 11,
   "metadata": {},
   "outputs": [],
   "source": [
    "request = ur.Request(url)"
   ]
  },
  {
   "cell_type": "code",
   "execution_count": 12,
   "metadata": {},
   "outputs": [],
   "source": [
    "response = ur.urlopen(request)"
   ]
  },
  {
   "cell_type": "code",
   "execution_count": 13,
   "metadata": {},
   "outputs": [],
   "source": [
    "html = response.read().decode('utf-8')"
   ]
  },
  {
   "cell_type": "code",
   "execution_count": 15,
   "metadata": {},
   "outputs": [],
   "source": [
    "dom = etree.HTML(html)"
   ]
  },
  {
   "cell_type": "code",
   "execution_count": 24,
   "metadata": {
    "scrolled": true
   },
   "outputs": [
    {
     "data": {
      "text/plain": [
       "[<Element span at 0x1ddd1030b48>]"
      ]
     },
     "execution_count": 24,
     "metadata": {},
     "output_type": "execute_result"
    }
   ],
   "source": [
    "dom.xpath('/html[1]/body[1]/div[6]/div[2]/div[4]/div[9]/span[1]')"
   ]
  },
  {
   "cell_type": "code",
   "execution_count": 48,
   "metadata": {},
   "outputs": [
    {
     "data": {
      "text/plain": [
       "<Element html at 0x1ddcff69c88>"
      ]
     },
     "execution_count": 48,
     "metadata": {},
     "output_type": "execute_result"
    }
   ],
   "source": [
    "dom"
   ]
  },
  {
   "cell_type": "code",
   "execution_count": 43,
   "metadata": {},
   "outputs": [],
   "source": [
    "readNum = tostring(dom.xpath('//div[contains(@class, \"articleh normal_post\")]/span')[0])\n",
    "conmentNum = tostring(dom.xpath('//div[contains(@class, \"articleh normal_post\")]/span')[1])\n",
    "titleDom = tostring(dom.xpath('//div[contains(@class, \"articleh normal_post\")]/span')[2])\n",
    "author = tostring(dom.xpath('//div[contains(@class, \"articleh normal_post\")]/span')[3])"
   ]
  },
  {
   "cell_type": "code",
   "execution_count": 60,
   "metadata": {},
   "outputs": [
    {
     "ename": "AttributeError",
     "evalue": "'list' object has no attribute 'extract'",
     "output_type": "error",
     "traceback": [
      "\u001b[1;31m---------------------------------------------------------------------------\u001b[0m",
      "\u001b[1;31mAttributeError\u001b[0m                            Traceback (most recent call last)",
      "\u001b[1;32m<ipython-input-60-c7ed16f49c06>\u001b[0m in \u001b[0;36m<module>\u001b[1;34m\u001b[0m\n\u001b[1;32m----> 1\u001b[1;33m \u001b[0mdom\u001b[0m\u001b[1;33m.\u001b[0m\u001b[0mxpath\u001b[0m\u001b[1;33m(\u001b[0m\u001b[1;34m'//div[contains(@class, \"articleh normal_post\")]/span'\u001b[0m\u001b[1;33m)\u001b[0m\u001b[1;33m.\u001b[0m\u001b[0mextract\u001b[0m\u001b[1;33m(\u001b[0m\u001b[1;33m)\u001b[0m\u001b[1;33m\u001b[0m\u001b[0m\n\u001b[0m",
      "\u001b[1;31mAttributeError\u001b[0m: 'list' object has no attribute 'extract'"
     ]
    }
   ],
   "source": [
    "dom.xpath('//div[contains(@class, \"articleh normal_post\")]/span')"
   ]
  },
  {
   "cell_type": "code",
   "execution_count": 58,
   "metadata": {},
   "outputs": [
    {
     "data": {
      "text/plain": [
       "b'<span class=\"l1 a1\">1448</span>\\r\\n                                    '"
      ]
     },
     "execution_count": 58,
     "metadata": {},
     "output_type": "execute_result"
    }
   ],
   "source": []
  },
  {
   "cell_type": "code",
   "execution_count": 44,
   "metadata": {},
   "outputs": [
    {
     "data": {
      "text/plain": [
       "b'<span class=\"l3 a3\"><a href=\"/news,600030,848922747.html\" title=\"&#20013;&#20449;&#35777;&#21048;07&#26376;02&#26085;&#33719;&#27818;&#32929;&#36890;&#20943;&#20179;78.23&#19975;&#32929;\">&#20013;&#20449;&#35777;&#21048;07&#26376;02&#26085;&#33719;&#27818;&#32929;&#36890;&#20943;&#20179;78.23&#19975;&#32929;</a></span>\\r\\n                                        '"
      ]
     },
     "execution_count": 44,
     "metadata": {},
     "output_type": "execute_result"
    }
   ],
   "source": [
    "titleDom"
   ]
  },
  {
   "cell_type": "code",
   "execution_count": 46,
   "metadata": {},
   "outputs": [],
   "source": [
    "titleDom = etree.HTML(titleDom)"
   ]
  },
  {
   "cell_type": "code",
   "execution_count": 47,
   "metadata": {},
   "outputs": [
    {
     "data": {
      "text/plain": [
       "<Element html at 0x1ddd14ec548>"
      ]
     },
     "execution_count": 47,
     "metadata": {},
     "output_type": "execute_result"
    }
   ],
   "source": [
    "titleDom"
   ]
  },
  {
   "cell_type": "code",
   "execution_count": 54,
   "metadata": {},
   "outputs": [
    {
     "data": {
      "text/plain": [
       "b'<a href=\"/news,600030,848922747.html\" title=\"&#20013;&#20449;&#35777;&#21048;07&#26376;02&#26085;&#33719;&#27818;&#32929;&#36890;&#20943;&#20179;78.23&#19975;&#32929;\">&#20013;&#20449;&#35777;&#21048;07&#26376;02&#26085;&#33719;&#27818;&#32929;&#36890;&#20943;&#20179;78.23&#19975;&#32929;</a>'"
      ]
     },
     "execution_count": 54,
     "metadata": {},
     "output_type": "execute_result"
    }
   ],
   "source": [
    "tostring(titleDom.xpath('//span/a')[0])"
   ]
  },
  {
   "cell_type": "code",
   "execution_count": 45,
   "metadata": {},
   "outputs": [
    {
     "ename": "TypeError",
     "evalue": "Type 'list' cannot be serialized.",
     "output_type": "error",
     "traceback": [
      "\u001b[1;31m---------------------------------------------------------------------------\u001b[0m",
      "\u001b[1;31mTypeError\u001b[0m                                 Traceback (most recent call last)",
      "\u001b[1;32m<ipython-input-45-365645483141>\u001b[0m in \u001b[0;36m<module>\u001b[1;34m\u001b[0m\n\u001b[1;32m----> 1\u001b[1;33m \u001b[0mtostring\u001b[0m\u001b[1;33m(\u001b[0m\u001b[0metree\u001b[0m\u001b[1;33m.\u001b[0m\u001b[0mHTML\u001b[0m\u001b[1;33m(\u001b[0m\u001b[0mtitleDom\u001b[0m\u001b[1;33m)\u001b[0m\u001b[1;33m.\u001b[0m\u001b[0mxpath\u001b[0m\u001b[1;33m(\u001b[0m\u001b[1;34m'//a[@title]'\u001b[0m\u001b[1;33m)\u001b[0m\u001b[1;33m)\u001b[0m\u001b[1;33m\u001b[0m\u001b[0m\n\u001b[0m",
      "\u001b[1;32mc:\\worktool\\python3.6\\lib\\site-packages\\lxml\\html\\__init__.py\u001b[0m in \u001b[0;36mtostring\u001b[1;34m(doc, pretty_print, include_meta_content_type, encoding, method, with_tail, doctype)\u001b[0m\n\u001b[0;32m   1844\u001b[0m     html = etree.tostring(doc, method=method, pretty_print=pretty_print,\n\u001b[0;32m   1845\u001b[0m                           \u001b[0mencoding\u001b[0m\u001b[1;33m=\u001b[0m\u001b[0mencoding\u001b[0m\u001b[1;33m,\u001b[0m \u001b[0mwith_tail\u001b[0m\u001b[1;33m=\u001b[0m\u001b[0mwith_tail\u001b[0m\u001b[1;33m,\u001b[0m\u001b[1;33m\u001b[0m\u001b[0m\n\u001b[1;32m-> 1846\u001b[1;33m                           doctype=doctype)\n\u001b[0m\u001b[0;32m   1847\u001b[0m     \u001b[1;32mif\u001b[0m \u001b[0mmethod\u001b[0m \u001b[1;33m==\u001b[0m \u001b[1;34m'html'\u001b[0m \u001b[1;32mand\u001b[0m \u001b[1;32mnot\u001b[0m \u001b[0minclude_meta_content_type\u001b[0m\u001b[1;33m:\u001b[0m\u001b[1;33m\u001b[0m\u001b[0m\n\u001b[0;32m   1848\u001b[0m         \u001b[1;32mif\u001b[0m \u001b[0misinstance\u001b[0m\u001b[1;33m(\u001b[0m\u001b[0mhtml\u001b[0m\u001b[1;33m,\u001b[0m \u001b[0mstr\u001b[0m\u001b[1;33m)\u001b[0m\u001b[1;33m:\u001b[0m\u001b[1;33m\u001b[0m\u001b[0m\n",
      "\u001b[1;32msrc\\lxml\\etree.pyx\u001b[0m in \u001b[0;36mlxml.etree.tostring\u001b[1;34m()\u001b[0m\n",
      "\u001b[1;31mTypeError\u001b[0m: Type 'list' cannot be serialized."
     ]
    }
   ],
   "source": [
    "tostring(etree.HTML(titleDom).xpath('//a[@title]'))"
   ]
  },
  {
   "cell_type": "code",
   "execution_count": 17,
   "metadata": {},
   "outputs": [],
   "source": [
    "result = dom.xpath('')"
   ]
  },
  {
   "cell_type": "code",
   "execution_count": null,
   "metadata": {},
   "outputs": [],
   "source": []
  },
  {
   "cell_type": "code",
   "execution_count": null,
   "metadata": {
    "scrolled": true
   },
   "outputs": [],
   "source": [
    "dom.xpath('<span class=\"l5 a5\">')"
   ]
  },
  {
   "cell_type": "code",
   "execution_count": null,
   "metadata": {},
   "outputs": [],
   "source": []
  },
  {
   "cell_type": "code",
   "execution_count": null,
   "metadata": {},
   "outputs": [],
   "source": []
  },
  {
   "cell_type": "code",
   "execution_count": null,
   "metadata": {},
   "outputs": [],
   "source": []
  },
  {
   "cell_type": "code",
   "execution_count": null,
   "metadata": {},
   "outputs": [],
   "source": []
  },
  {
   "cell_type": "code",
   "execution_count": null,
   "metadata": {},
   "outputs": [],
   "source": [
    "#!/usr/bin/env python\n",
    "# -*-coding:utf-8 -*-\n",
    "\n",
    "import urllib.request as ur\n",
    "import re\n",
    "# 导入对excel文件进行操作的库\n",
    "import xlwt\n",
    "# 创建表格，设置编码模式，创建新的sheet\n",
    "book=xlwt.Workbook(encoding='utf-8',style_compression=0)\n",
    "sheet=book.add_sheet('dede',cell_overwrite_ok=True)\n",
    "\n",
    "#j的作用是对url不断进行修改，翻页\n",
    "for j in range(1, 1192):\n",
    "    print(j)\n",
    "    url = 'http://guba.eastmoney.com/list,600030,5,f_'+str(j)+'.html'\n",
    "    try:\n",
    "        request = ur .Request(url)\n",
    "        response = ur .urlopen(request)\n",
    "        content = response.read().decode('utf-8')\n",
    "        pattern = re.compile('<span class.*?title=(.*?)>',re.S)\n",
    "        title = re.findall(pattern, content)\n",
    "        pattern = re.compile('<span class.*?<a href.*?data-popper.*?>(.*?)</a>', re.S)\n",
    "        author = re.findall(pattern, content)\n",
    "        timePattern = re.compile('<span class.*?data-popper.*?</span><span class.*?>(.*?)</span>.*?<span class.*?>(.*?)</span>', re.S)\n",
    "        time = re.findall(timePattern, content)\n",
    "        pattern = re.compile('<div class.*?articleh.*?<span.*?>(.*?)</span>.*?<span class.*?>(.*?)</span>', re.S)\n",
    "        num = re.findall(pattern, content)\n",
    "        for i in range(0, 80):\n",
    "            titleans = title[i+1]\n",
    "            sheet.write((j-1)*80+i,0,titleans)\n",
    "            authorans = author[i]\n",
    "            sheet.write((j - 1) * 80 + i, 1, authorans)\n",
    "            fabiaotime = time[i][0]\n",
    "            sheet.write((j - 1) * 80 + i, 2, fabiaotime)\n",
    "            gengxintime=time[i][1]\n",
    "            sheet.write((j - 1) * 80 + i, 3, gengxintime)\n",
    "            yuedu = num[i][0]\n",
    "            #print yuedu\n",
    "            sheet.write((j - 1) * 80 + i, 4, yuedu)\n",
    "            pinglun = num[i][1]\n",
    "            #print pinglun\n",
    "            sheet.write((j - 1) * 80 + i, 5, pinglun)\n",
    "            #保存\n",
    "            book.save('C:\\\\Users\\\\Lenovo\\\\Desktop\\\\600030.xls')\n",
    "\n",
    "    except ur.URLError as e:\n",
    "        if hasattr(e, \"code\"):\n",
    "            print(e.code)\n",
    "\n",
    "        if hasattr(e, \"reason\"):\n",
    "            print(e.reason)"
   ]
  },
  {
   "cell_type": "code",
   "execution_count": null,
   "metadata": {},
   "outputs": [],
   "source": []
  },
  {
   "cell_type": "code",
   "execution_count": null,
   "metadata": {},
   "outputs": [],
   "source": []
  },
  {
   "cell_type": "code",
   "execution_count": null,
   "metadata": {},
   "outputs": [],
   "source": []
  }
 ],
 "metadata": {
  "kernelspec": {
   "display_name": "Python 3",
   "language": "python",
   "name": "python3"
  },
  "language_info": {
   "codemirror_mode": {
    "name": "ipython",
    "version": 3
   },
   "file_extension": ".py",
   "mimetype": "text/x-python",
   "name": "python",
   "nbconvert_exporter": "python",
   "pygments_lexer": "ipython3",
   "version": "3.6.4"
  }
 },
 "nbformat": 4,
 "nbformat_minor": 2
}
