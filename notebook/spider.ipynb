{
 "cells": [
  {
   "cell_type": "code",
   "execution_count": 35,
   "metadata": {},
   "outputs": [],
   "source": [
    "from lxml import etree\n",
    "import urllib.request as ur\n",
    "from lxml.html import fromstring, tostring"
   ]
  },
  {
   "cell_type": "code",
   "execution_count": 10,
   "metadata": {},
   "outputs": [],
   "source": [
    "url = 'http://guba.eastmoney.com/list,600030,5,f_1.html'"
   ]
  },
  {
   "cell_type": "code",
   "execution_count": 11,
   "metadata": {},
   "outputs": [],
   "source": [
    "request = ur.Request(url)"
   ]
  },
  {
   "cell_type": "code",
   "execution_count": 12,
   "metadata": {},
   "outputs": [],
   "source": [
    "response = ur.urlopen(request)"
   ]
  },
  {
   "cell_type": "code",
   "execution_count": 13,
   "metadata": {},
   "outputs": [],
   "source": [
    "html = response.read().decode('utf-8')"
   ]
  },
  {
   "cell_type": "code",
   "execution_count": 15,
   "metadata": {},
   "outputs": [],
   "source": [
    "dom = etree.HTML(html)"
   ]
  },
  {
   "cell_type": "code",
   "execution_count": 24,
   "metadata": {
    "scrolled": true
   },
   "outputs": [
    {
     "data": {
      "text/plain": [
       "[<Element span at 0x1ddd1030b48>]"
      ]
     },
     "execution_count": 24,
     "metadata": {},
     "output_type": "execute_result"
    }
   ],
   "source": [
    "dom.xpath('/html[1]/body[1]/div[6]/div[2]/div[4]/div[9]/span[1]')"
   ]
  },
  {
   "cell_type": "code",
   "execution_count": 83,
   "metadata": {},
   "outputs": [],
   "source": [
    "html_tree = dom.xpath('//div[contains(@class, \"articleh normal_post\")]/span[contains(@class, \"l\")]')"
   ]
  },
  {
   "cell_type": "code",
   "execution_count": 104,
   "metadata": {},
   "outputs": [],
   "source": [
    "readNum = html_tree[0].text\n",
    "conmentNum = html_tree[1].text\n",
    "titleStr = tostring(html_tree[2])\n",
    "authorStr = tostring(html_tree[3])\n",
    "time = html_tree[4].text"
   ]
  },
  {
   "cell_type": "code",
   "execution_count": 128,
   "metadata": {},
   "outputs": [],
   "source": [
    "titleDom = etree.HTML(titleStr).xpath('//a[contains(@href, \"news\")]')[0]\n",
    "authorDom = etree.HTML(authorStr).xpath('//a')[0]"
   ]
  },
  {
   "cell_type": "code",
   "execution_count": 125,
   "metadata": {},
   "outputs": [
    {
     "data": {
      "text/plain": [
       "'中信证券07月02日获沪股通减仓78.23万股'"
      ]
     },
     "execution_count": 125,
     "metadata": {},
     "output_type": "execute_result"
    }
   ],
   "source": [
    "titleHref = titleDom.attrib['href']\n",
    "title = titleDom.text\n",
    "title"
   ]
  },
  {
   "cell_type": "code",
   "execution_count": 145,
   "metadata": {},
   "outputs": [
    {
     "data": {
      "text/plain": [
       "385"
      ]
     },
     "execution_count": 145,
     "metadata": {},
     "output_type": "execute_result"
    }
   ],
   "source": [
    "len(html_tree)"
   ]
  },
  {
   "cell_type": "code",
   "execution_count": 146,
   "metadata": {},
   "outputs": [
    {
     "name": "stdout",
     "output_type": "stream",
     "text": [
      "0\n",
      "1448 0 中信证券07月02日获沪股通减仓78.23万股 07-03 08:00\n",
      "5\n",
      "1161 0 中信证券06月18日获沪股通加仓237.36万股 06-19 08:01\n",
      "10\n",
      "4380 0 中信证券06月14日获沪股通减仓155.57万股 06-15 08:00\n",
      "15\n",
      "2028 1 中信证券06月04日获沪股通减仓98.99万股 06-05 08:00\n",
      "20\n",
      "1509 1 中信证券06月03日获沪股通加仓290.47万股 06-04 08:00\n",
      "25\n",
      "2617 2 中信证券05月31日获沪股通减仓119.02万股 06-01 08:00\n",
      "30\n",
      "1568 1 中信证券05月28日获沪股通加仓12.43万股 05-29 08:01\n",
      "35\n",
      "1131 0 中信证券02月11日获沪股通减仓5.00万股 02-12 08:01\n",
      "40\n",
      "1051 0 中信证券01月29日获沪股通减仓273.25万股 01-30 08:01\n",
      "45\n",
      "1132 0 中信证券01月28日获沪股通加仓385.66万股 01-29 08:01\n",
      "50\n",
      "2216 0 中信证券01月25日获沪股通加仓415.40万股 01-26 08:01\n",
      "55\n",
      "2972 1 中信证券01月18日获沪股通加仓287.61万股 01-19 08:01\n",
      "60\n",
      "1132 0 中信证券12月19日获沪股通减仓32.96万股 12-20 08:06\n",
      "65\n",
      "1261 0 中信证券12月18日获沪股通减仓346.53万股 12-19 08:01\n",
      "70\n",
      "1271 0 中信证券12月17日获沪股通加仓149.52万股 12-18 08:01\n",
      "75\n",
      "2175 0 中信证券12月14日获沪股通减仓146.78万股 12-15 08:01\n",
      "80\n",
      "1415 0 中信证券12月12日获沪股通加仓109.97万股 12-13 08:01\n",
      "85\n",
      "4592 0 中信证券10月19日获沪股通加仓983.19万股 10-20 08:01\n",
      "90\n",
      "2568 0 中信证券10月18日获沪股通减仓103.14万股 10-19 08:01\n",
      "95\n",
      "1951 0 中信证券10月15日获沪股通减仓156.98万股 10-16 08:01\n",
      "100\n",
      "3740 0 中信证券10月12日获沪股通加仓18.36万股 10-13 08:01\n",
      "105\n",
      "1779 0 中信证券10月10日获沪股通加仓45.14万股 10-11 08:01\n",
      "110\n",
      "3059 1 中信证券10月09日获沪股通加仓158.14万股 10-10 08:01\n",
      "115\n",
      "2268 0 中信证券10月08日获沪股通减仓964.40万股 10-09 08:01\n",
      "120\n",
      "4755 0 中信证券09月28日获沪股通加仓25.14万股 09-29 08:01\n",
      "125\n",
      "2501 0 中信证券09月27日获沪股通加仓118.04万股 09-28 08:01\n",
      "130\n",
      "2073 0 中信证券09月26日获沪股通减仓104.70万股 09-27 08:01\n",
      "135\n",
      "2128 0 中信证券09月20日获沪股通加仓61.00万股 09-21 08:01\n",
      "140\n",
      "2455 0 中信证券09月19日获沪股通加仓166.05万股 09-20 08:01\n",
      "145\n",
      "1658 0 中信证券09月14日获沪股通加仓92.89万股 09-19 10:37\n",
      "150\n",
      "2047 0 中信证券09月18日获沪股通加仓169.01万股 09-19 08:01\n",
      "155\n",
      "2057 0 中信证券09月17日获沪股通加仓78.06万股 09-18 08:01\n",
      "160\n",
      "2675 0 中信证券09月13日获沪股通加仓347.16万股 09-14 08:01\n",
      "165\n",
      "2286 0 中信证券09月12日获沪股通减仓182.38万股 09-13 08:01\n",
      "170\n",
      "3310 1 中信证券09月11日获沪股通加仓60.51万股 09-12 08:01\n",
      "175\n",
      "2990 0 中信证券09月07日获沪股通减仓251.96万股 09-08 08:01\n",
      "180\n",
      "2375 0 中信证券09月06日获沪股通减仓158.91万股 09-07 08:01\n",
      "185\n",
      "2820 1 中信证券09月04日获沪股通减仓1.79万股 09-05 08:00\n",
      "190\n",
      "2556 1 中信证券09月03日获沪股通减仓176.09万股 09-04 08:00\n",
      "195\n",
      "4026 0 中信证券08月31日获沪股通加仓485.56万股 09-01 08:00\n",
      "200\n",
      "2530 0 中信证券08月30日获沪股通减仓236.76万股 08-31 08:01\n",
      "205\n",
      "2267 0 中信证券08月29日获沪股通加仓60.54万股 08-30 08:01\n",
      "210\n",
      "2812 1 中信证券08月28日获沪股通减仓135.03万股 08-29 08:01\n",
      "215\n",
      "2525 1 中信证券08月27日获沪股通减仓241.68万股 08-28 08:01\n",
      "220\n",
      "3996 0 中信证券08月24日获沪股通减仓216.90万股 08-25 08:01\n",
      "225\n",
      "2416 0 中信证券08月22日获沪股通加仓59.35万股 08-23 08:01\n",
      "230\n",
      "2090 0 中信证券08月21日获沪股通加仓213.08万股 08-22 08:01\n",
      "235\n",
      "2568 0 中信证券08月20日获沪股通加仓632.18万股 08-21 08:01\n",
      "240\n",
      "2139 0 中信证券08月15日获沪股通减仓270.41万股 08-16 08:01\n",
      "245\n",
      "2019 0 中信证券08月14日获沪股通减仓224.04万股 08-15 08:01\n",
      "250\n",
      "1933 0 中信证券08月08日获沪股通减仓188.38万股 08-09 08:01\n",
      "255\n",
      "2179 0 中信证券08月07日获沪股通加仓228.20万股 08-08 08:00\n",
      "260\n",
      "2160 0 中信证券08月06日获沪股通加仓104.26万股 08-07 08:00\n",
      "265\n",
      "4635 0 中信证券08月03日获沪股通减仓204.52万股 08-04 08:00\n",
      "270\n",
      "2339 0 中信证券08月02日获沪股通减仓364.97万股 08-03 08:00\n",
      "275\n",
      "2401 1 中信证券08月01日获沪股通减仓142.78万股 08-02 08:00\n",
      "280\n",
      "2305 0 中信证券07月31日获沪股通加仓195.67万股 08-01 08:00\n",
      "285\n",
      "2434 0 中信证券07月30日获沪股通加仓316.04万股 07-31 08:01\n",
      "290\n",
      "5679 1 中信证券07月27日获沪股通加仓306.52万股 07-28 08:01\n",
      "295\n",
      "4998 2 中信证券07月26日获沪股通加仓268.15万股 07-27 08:01\n",
      "300\n",
      "2559 0 中信证券07月25日获沪股通加仓730.34万股 07-26 08:01\n",
      "305\n",
      "1981 0 中信证券07月24日获沪股通加仓74.56万股 07-25 08:01\n",
      "310\n",
      "1667 0 中信证券07月23日获沪股通减仓109.64万股 07-24 08:00\n",
      "315\n",
      "3409 1 中信证券07月19日获沪股通加仓407.87万股 07-20 08:01\n",
      "320\n",
      "1798 0 中信证券07月18日获沪股通减仓35.67万股 07-19 08:00\n",
      "325\n",
      "1564 0 中信证券07月17日获沪股通减仓39.82万股 07-18 08:00\n",
      "330\n",
      "1779 0 中信证券07月16日获沪股通减仓113.38万股 07-17 08:00\n",
      "335\n",
      "2528 0 中信证券07月13日获沪股通减仓65.03万股 07-14 08:00\n",
      "340\n",
      "2054 0 中信证券07月12日获沪股通加仓310.30万股 07-13 08:00\n",
      "345\n",
      "1961 0 中信证券07月11日获沪股通减仓228.29万股 07-12 08:00\n",
      "350\n",
      "1924 0 中信证券07月10日获沪股通减仓48.20万股 07-11 08:00\n",
      "355\n",
      "1940 0 中信证券07月09日获沪股通加仓257.10万股 07-10 08:00\n",
      "360\n",
      "1689 0 中信证券07月05日获沪股通减仓143.44万股 07-06 08:00\n",
      "365\n",
      "1796 0 中信证券07月04日获沪股通减仓278.22万股 07-05 08:00\n",
      "370\n",
      "1993 0 中信证券07月03日获沪股通减仓74.38万股 07-04 08:00\n",
      "375\n",
      "1680 0 中信证券06月27日获沪股通减仓6.08万股 06-28 08:00\n",
      "380\n",
      "2266 0 中信证券06月26日获沪股通加仓423.18万股 06-27 08:00\n"
     ]
    }
   ],
   "source": [
    "for i in range(0, len(html_tree) - 4, 5):\n",
    "    print(i)\n",
    "    readNum = html_tree[i].text\n",
    "    conmentNum = html_tree[i + 1].text\n",
    "    titleStr = tostring(html_tree[i + 2])\n",
    "    authorStr = tostring(html_tree[i + 3])\n",
    "    time = html_tree[i + 4].text\n",
    "    titleDom = etree.HTML(titleStr).xpath('//a[contains(@href, \"news\")]')[0]\n",
    "    authorDom = etree.HTML(authorStr).xpath('//a')[0]\n",
    "    titleHref = titleDom.attrib['href']\n",
    "    title = titleDom.text\n",
    "    print(readNum + \" \" + conmentNum  + \" \" + title  + \" \" + time)"
   ]
  },
  {
   "cell_type": "code",
   "execution_count": null,
   "metadata": {},
   "outputs": [],
   "source": []
  },
  {
   "cell_type": "code",
   "execution_count": null,
   "metadata": {},
   "outputs": [],
   "source": []
  },
  {
   "cell_type": "code",
   "execution_count": 105,
   "metadata": {},
   "outputs": [
    {
     "data": {
      "text/plain": [
       "'中信证券07月02日获沪股通减仓78.23万股'"
      ]
     },
     "execution_count": 105,
     "metadata": {},
     "output_type": "execute_result"
    }
   ],
   "source": [
    "etree.HTML(titleStr).xpath('//a')[0].text"
   ]
  },
  {
   "cell_type": "code",
   "execution_count": 98,
   "metadata": {},
   "outputs": [
    {
     "data": {
      "text/plain": [
       "<bound method _Element.keys of <Element span at 0x1ddd1033a08>>"
      ]
     },
     "execution_count": 98,
     "metadata": {},
     "output_type": "execute_result"
    }
   ],
   "source": [
    "titleDom.attrib"
   ]
  },
  {
   "cell_type": "code",
   "execution_count": 82,
   "metadata": {},
   "outputs": [
    {
     "data": {
      "text/plain": [
       "{'class': 'l3 a3'}"
      ]
     },
     "execution_count": 82,
     "metadata": {},
     "output_type": "execute_result"
    }
   ],
   "source": [
    "titleDom.attrib"
   ]
  },
  {
   "cell_type": "code",
   "execution_count": 46,
   "metadata": {},
   "outputs": [],
   "source": [
    "titleDom = etree.HTML(titleDom)"
   ]
  },
  {
   "cell_type": "code",
   "execution_count": 47,
   "metadata": {},
   "outputs": [
    {
     "data": {
      "text/plain": [
       "<Element html at 0x1ddd14ec548>"
      ]
     },
     "execution_count": 47,
     "metadata": {},
     "output_type": "execute_result"
    }
   ],
   "source": [
    "titleDom"
   ]
  },
  {
   "cell_type": "code",
   "execution_count": 54,
   "metadata": {},
   "outputs": [
    {
     "data": {
      "text/plain": [
       "b'<a href=\"/news,600030,848922747.html\" title=\"&#20013;&#20449;&#35777;&#21048;07&#26376;02&#26085;&#33719;&#27818;&#32929;&#36890;&#20943;&#20179;78.23&#19975;&#32929;\">&#20013;&#20449;&#35777;&#21048;07&#26376;02&#26085;&#33719;&#27818;&#32929;&#36890;&#20943;&#20179;78.23&#19975;&#32929;</a>'"
      ]
     },
     "execution_count": 54,
     "metadata": {},
     "output_type": "execute_result"
    }
   ],
   "source": [
    "tostring(titleDom.xpath('//span/a')[0])"
   ]
  },
  {
   "cell_type": "code",
   "execution_count": 17,
   "metadata": {},
   "outputs": [],
   "source": [
    "result = dom.xpath('')"
   ]
  },
  {
   "cell_type": "code",
   "execution_count": null,
   "metadata": {},
   "outputs": [],
   "source": []
  },
  {
   "cell_type": "code",
   "execution_count": null,
   "metadata": {
    "scrolled": true
   },
   "outputs": [],
   "source": [
    "dom.xpath('<span class=\"l5 a5\">')"
   ]
  },
  {
   "cell_type": "code",
   "execution_count": null,
   "metadata": {},
   "outputs": [],
   "source": []
  },
  {
   "cell_type": "code",
   "execution_count": null,
   "metadata": {},
   "outputs": [],
   "source": []
  },
  {
   "cell_type": "code",
   "execution_count": null,
   "metadata": {},
   "outputs": [],
   "source": []
  },
  {
   "cell_type": "code",
   "execution_count": null,
   "metadata": {},
   "outputs": [],
   "source": []
  },
  {
   "cell_type": "code",
   "execution_count": null,
   "metadata": {},
   "outputs": [],
   "source": [
    "#!/usr/bin/env python\n",
    "# -*-coding:utf-8 -*-\n",
    "\n",
    "import urllib.request as ur\n",
    "import re\n",
    "# 导入对excel文件进行操作的库\n",
    "import xlwt\n",
    "# 创建表格，设置编码模式，创建新的sheet\n",
    "book=xlwt.Workbook(encoding='utf-8',style_compression=0)\n",
    "sheet=book.add_sheet('dede',cell_overwrite_ok=True)\n",
    "\n",
    "#j的作用是对url不断进行修改，翻页\n",
    "for j in range(1, 1192):\n",
    "    print(j)\n",
    "    url = 'http://guba.eastmoney.com/list,600030,5,f_'+str(j)+'.html'\n",
    "    try:\n",
    "        request = ur .Request(url)\n",
    "        response = ur .urlopen(request)\n",
    "        content = response.read().decode('utf-8')\n",
    "        pattern = re.compile('<span class.*?title=(.*?)>',re.S)\n",
    "        title = re.findall(pattern, content)\n",
    "        pattern = re.compile('<span class.*?<a href.*?data-popper.*?>(.*?)</a>', re.S)\n",
    "        author = re.findall(pattern, content)\n",
    "        timePattern = re.compile('<span class.*?data-popper.*?</span><span class.*?>(.*?)</span>.*?<span class.*?>(.*?)</span>', re.S)\n",
    "        time = re.findall(timePattern, content)\n",
    "        pattern = re.compile('<div class.*?articleh.*?<span.*?>(.*?)</span>.*?<span class.*?>(.*?)</span>', re.S)\n",
    "        num = re.findall(pattern, content)\n",
    "        for i in range(0, 80):\n",
    "            titleans = title[i+1]\n",
    "            sheet.write((j-1)*80+i,0,titleans)\n",
    "            authorans = author[i]\n",
    "            sheet.write((j - 1) * 80 + i, 1, authorans)\n",
    "            fabiaotime = time[i][0]\n",
    "            sheet.write((j - 1) * 80 + i, 2, fabiaotime)\n",
    "            gengxintime=time[i][1]\n",
    "            sheet.write((j - 1) * 80 + i, 3, gengxintime)\n",
    "            yuedu = num[i][0]\n",
    "            #print yuedu\n",
    "            sheet.write((j - 1) * 80 + i, 4, yuedu)\n",
    "            pinglun = num[i][1]\n",
    "            #print pinglun\n",
    "            sheet.write((j - 1) * 80 + i, 5, pinglun)\n",
    "            #保存\n",
    "            book.save('C:\\\\Users\\\\Lenovo\\\\Desktop\\\\600030.xls')\n",
    "\n",
    "    except ur.URLError as e:\n",
    "        if hasattr(e, \"code\"):\n",
    "            print(e.code)\n",
    "\n",
    "        if hasattr(e, \"reason\"):\n",
    "            print(e.reason)"
   ]
  },
  {
   "cell_type": "code",
   "execution_count": null,
   "metadata": {},
   "outputs": [],
   "source": []
  },
  {
   "cell_type": "code",
   "execution_count": null,
   "metadata": {},
   "outputs": [],
   "source": []
  },
  {
   "cell_type": "code",
   "execution_count": null,
   "metadata": {},
   "outputs": [],
   "source": []
  }
 ],
 "metadata": {
  "kernelspec": {
   "display_name": "Python 3",
   "language": "python",
   "name": "python3"
  },
  "language_info": {
   "codemirror_mode": {
    "name": "ipython",
    "version": 3
   },
   "file_extension": ".py",
   "mimetype": "text/x-python",
   "name": "python",
   "nbconvert_exporter": "python",
   "pygments_lexer": "ipython3",
   "version": "3.6.4"
  }
 },
 "nbformat": 4,
 "nbformat_minor": 2
}
